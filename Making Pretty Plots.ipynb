{
 "cells": [
  {
   "cell_type": "code",
   "execution_count": null,
   "metadata": {
    "collapsed": true
   },
   "outputs": [],
   "source": [
    "import numpy as np\n",
    "t, k, dk = np.loadtxt('exp1.csv', skiprows=2, delimiter=',', unpack=True)"
   ]
  },
  {
   "cell_type": "code",
   "execution_count": null,
   "metadata": {
    "collapsed": true
   },
   "outputs": [],
   "source": [
    "print(k)"
   ]
  },
  {
   "cell_type": "code",
   "execution_count": null,
   "metadata": {
    "collapsed": true
   },
   "outputs": [],
   "source": [
    "import matplotlib.pyplot as plt\n",
    "plt.plot(1/t, np.log(k))\n",
    "plt.tight_layout()\n",
    "plt.show()"
   ]
  },
  {
   "cell_type": "code",
   "execution_count": null,
   "metadata": {
    "collapsed": true
   },
   "outputs": [],
   "source": [
    "import matplotlib.pyplot as plt\n",
    "plt.errorbar(1/t, np.log(k), yerr=dk/k, marker='o', linestyle='')\n",
    "plt.xlabel('1/T (K$^{-1}$)')\n",
    "plt.ylabel('ln(k)')\n",
    "plt.tight_layout()\n",
    "plt.show()"
   ]
  },
  {
   "cell_type": "code",
   "execution_count": null,
   "metadata": {
    "collapsed": true
   },
   "outputs": [],
   "source": [
    "import matplotlib as mpl\n",
    "mpl.rcParams['axes.grid'] = True\n",
    "mpl.rcParams['ytick.direction'] = 'in'\n",
    "mpl.rcParams['xtick.labelsize'] = 20\n",
    "mpl.rcParams['axes.facecolor'] = 'g'\n",
    "import matplotlib.pyplot as plt\n",
    "plt.errorbar(1/t, np.log(k), yerr=dk/k, marker='^', linestyle='', color='#34a5daff')\n",
    "plt.xlabel('1/T (K$^{-1}$)')\n",
    "plt.ylabel('ln(k)')\n",
    "plt.tight_layout()\n",
    "plt.show()"
   ]
  },
  {
   "cell_type": "code",
   "execution_count": null,
   "metadata": {
    "collapsed": true
   },
   "outputs": [],
   "source": [
    "mpl.rcParams.keys()"
   ]
  },
  {
   "cell_type": "code",
   "execution_count": null,
   "metadata": {
    "collapsed": true
   },
   "outputs": [],
   "source": [
    "import matplotlib.pyplot as plt\n",
    "import seaborn as sns\n",
    "sns.set('talk', palette='colorblind')\n",
    "plt.errorbar(1/t, np.log(k), yerr=dk/k, marker='o', linestyle='')\n",
    "plt.xlabel('1/T (K$^{-1}$)')\n",
    "plt.ylabel('ln(k)')\n",
    "plt.tight_layout()\n",
    "plt.show()"
   ]
  },
  {
   "cell_type": "code",
   "execution_count": null,
   "metadata": {
    "collapsed": true
   },
   "outputs": [],
   "source": [
    "import matplotlib.pyplot as plt\n",
    "import seaborn as sns\n",
    "sns.set('talk', palette='colorblind')\n",
    "plt.errorbar(1/t, np.log(k), yerr=dk/k, marker='o', linestyle='')\n",
    "plt.errorbar(1/t, np.log(k)+0.1, yerr=dk/k, marker='o', linestyle='')\n",
    "plt.errorbar(1/t, np.log(k)+0.2, yerr=dk/k, marker='o', linestyle='')\n",
    "plt.errorbar(1/t, np.log(k)+0.3, yerr=dk/k, marker='o', linestyle='')\n",
    "plt.xlabel('1/T (K$^{-1}$)')\n",
    "plt.ylabel('ln(k)')\n",
    "plt.tight_layout()\n",
    "plt.show()"
   ]
  },
  {
   "cell_type": "code",
   "execution_count": null,
   "metadata": {
    "collapsed": true
   },
   "outputs": [],
   "source": []
  }
 ],
 "metadata": {
  "kernelspec": {
   "display_name": "Python 3 (ipykernel)",
   "language": "python",
   "name": "python3"
  },
  "language_info": {
   "codemirror_mode": {
    "name": "ipython",
    "version": 3
   },
   "file_extension": ".py",
   "mimetype": "text/x-python",
   "name": "python",
   "nbconvert_exporter": "python",
   "pygments_lexer": "ipython3",
   "version": "3.7.12"
  }
 },
 "nbformat": 4,
 "nbformat_minor": 2
}
