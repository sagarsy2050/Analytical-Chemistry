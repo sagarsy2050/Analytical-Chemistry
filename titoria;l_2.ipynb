{
 "cells": [
  {
   "cell_type": "code",
   "execution_count": 2,
   "metadata": {},
   "outputs": [],
   "source": [
    "from math import sqrt, pi\n",
    "from scipy.stats import linregress\n",
    "import matplotlib.pyplot as plt\n",
    "import numpy as np"
   ]
  },
  {
   "cell_type": "markdown",
   "metadata": {},
   "source": [
    "### Question 1\n",
    "\n",
    "A couple of basic exercises, largely in Units and number crunching!\n",
    "\n",
    "- a) The pressure at the top of a mountain is one-third of an atmosphere. Calculate the pressure in S.I. units and in bar.\n",
    "- b) A sample of Neon of mass 255 mg occupies 3.0 L at 122 K. What pressure does it exert if it acts ideally?\n",
    "- c) The atomis radius of a helium atom ihad been reported as 140 pm. Convert this to Angstroms and into SI units. What, in SI units, is the volume occupied by the atom?\n",
    "\n",
    "#### Answer 1a\n",
    "\n",
    "*A simple unit conversion from atmospheres to pascals (Pa) and bar. *"
   ]
  },
  {
   "cell_type": "code",
   "execution_count": 3,
   "metadata": {},
   "outputs": [
    {
     "name": "stdout",
     "output_type": "stream",
     "text": [
      "p = 0.3333333333333333 [atm]\n"
     ]
    }
   ],
   "source": [
    "# the pressure to be converting in atmospheres\n",
    "p = 1. / 3. #atm\n",
    "print('p = {} [atm]'.format(p))"
   ]
  },
  {
   "cell_type": "code",
   "execution_count": 4,
   "metadata": {},
   "outputs": [
    {
     "name": "stdout",
     "output_type": "stream",
     "text": [
      "p = 0.3333333333333333 [atm] * 101325.0 [Pa/atm] = 33775.0 [Pa]\n"
     ]
    }
   ],
   "source": [
    "# the conversion factor from atmospheres to Pascals\n",
    "Pa_per_atm = 101325. #Pa atm-1\n",
    "\n",
    "# if we format out algebra correctly this can always be multiplicative\n",
    "p_SI = p * Pa_per_atm #Pa\n",
    "print('p = {} [atm] * {} [Pa/atm] = {} [Pa]'.format(p, Pa_per_atm, p_SI))"
   ]
  },
  {
   "cell_type": "code",
   "execution_count": 5,
   "metadata": {},
   "outputs": [
    {
     "name": "stdout",
     "output_type": "stream",
     "text": [
      "p = 0.3333333333333333 [atm] * 1.01325 [bar/atm] = 0.33775 [bar]\n"
     ]
    }
   ],
   "source": [
    "# the conversion factor from atmospheres to bar\n",
    "bar_per_atm = 1.01325 #bar atm-1\n",
    "\n",
    "# again it is a simple multiplication\n",
    "p_bar = p * bar_per_atm\n",
    "print('p = {} [atm] * {} [bar/atm] = {} [bar]'.format(p, bar_per_atm, p_bar))"
   ]
  },
  {
   "cell_type": "markdown",
   "metadata": {},
   "source": [
    "#### Answer 1b\n",
    "\n",
    "*Finding the number of moles followed by the ideal gas law.*"
   ]
  },
  {
   "cell_type": "code",
   "execution_count": 6,
   "metadata": {},
   "outputs": [
    {
     "name": "stdout",
     "output_type": "stream",
     "text": [
      "m_g = 255 [mg] * 0.001 [mg/g] = 0.255 g\n",
      "n = 0.255 [g] / 20.180 [g/mol] = 0.013 [mol]\n"
     ]
    }
   ],
   "source": [
    "# First we need to convert from mg in to grams\n",
    "m = 255 #mg\n",
    "g_per_mg = 1E-3 #g mg-1\n",
    "m_g = m * g_per_mg\n",
    "print('m_g = {} [mg] * {} [mg/g] = {} g'.format(m, g_per_mg, m_g))\n",
    "\n",
    "# the number of moles can then be found\n",
    "Mw = 20.1797\n",
    "n = m_g / Mw\n",
    "print('n = {} [g] / {:.3f} [g/mol] = {:.3f} [mol]'.format(m_g, Mw, n))"
   ]
  },
  {
   "cell_type": "code",
   "execution_count": 7,
   "metadata": {},
   "outputs": [
    {
     "name": "stdout",
     "output_type": "stream",
     "text": [
      "V_m3 = 3.0 [L] * 0.001 [m3/L] = 0.003 [m3]\n",
      "p = (0.013 [mol] * 8.314 [J/Kmol] * 122 [K]) / 0.003 [m3]\n",
      "p = 4272.421 [Pa]\n"
     ]
    }
   ],
   "source": [
    "# need to convert from litres to SI which is m3\n",
    "V = 3. #L\n",
    "m3_per_litre = 1e-3 #m3 L-1\n",
    "V_m3 = V * m3_per_litre\n",
    "print('V_m3 = {} [L] * {} [m3/L] = {} [m3]'.format(V, m3_per_litre, V_m3))\n",
    "\n",
    "# the pressure is then found from the ideal gas law\n",
    "R = 8.314 #J K-1 mol-1\n",
    "T = 122 #K\n",
    "p = (n * R * T) / V_m3\n",
    "print('p = ({:.3f} [mol] * {} [J/Kmol] * {} [K]) / {} [m3]'.format(n, R, T, V_m3))\n",
    "print('p = {:.3f} [Pa]'.format(p))"
   ]
  },
  {
   "cell_type": "markdown",
   "metadata": {},
   "source": [
    "#### Answer 1c\n",
    "\n",
    "*Another simple unit conversion, and then volume of a sphere.*"
   ]
  },
  {
   "cell_type": "code",
   "execution_count": 8,
   "metadata": {},
   "outputs": [
    {
     "name": "stdout",
     "output_type": "stream",
     "text": [
      "r = 140 [pm] * 0.01 [angstrom/pm]= 1.400 [angstrom]\n",
      "r = 140 [pm] * 1e-12 [m/pm] = 0.00000000014 [m]\n"
     ]
    }
   ],
   "source": [
    "# the radius value and the two conversion factors\n",
    "r = 140 #pm\n",
    "angstrom_per_pm = 1e-2 #angstrom pm-1\n",
    "m_per_pm = 1e-12 #m pm-1\n",
    "\n",
    "# again the conversions are simple if we consider them multiplicatively \n",
    "r_angstrom = r * angstrom_per_pm\n",
    "r_m = r * m_per_pm\n",
    "print('r = {} [pm] * {} [angstrom/pm]= {:.3f} [angstrom]'\n",
    "      .format(r, angstrom_per_pm, r_angstrom))\n",
    "print('r = {} [pm] * {} [m/pm] = {:.11f} [m]'.format(r, m_per_pm, r_m))"
   ]
  },
  {
   "cell_type": "code",
   "execution_count": 9,
   "metadata": {},
   "outputs": [
    {
     "name": "stdout",
     "output_type": "stream",
     "text": [
      "V = (4. / 3.) * 3.142 * 1.4e-10 [m] ^ 3 = 1.149e-29 [m3]\n",
      "The volume of the helium atom is 1.149e-29 m3\n"
     ]
    }
   ],
   "source": [
    "# the equation for the volume of a sphere\n",
    "V = 4. / 3. * pi * r_m ** 3\n",
    "print('V = (4. / 3.) * {:.3f} * {} [m] ^ 3 = {:.3e} [m3]'.format(pi, r_m, V))\n",
    "print('The volume of the helium atom is {:.3e} m3'. format(V))"
   ]
  },
  {
   "cell_type": "markdown",
   "metadata": {},
   "source": [
    "### Question 2\n",
    "\n",
    "Calculate the average speed of molecules (in ms$^{-1}$ and miles per hour) in Neon, Krypton and Xenon at 25 $^\\circ$C and 250 $^\\circ$C. (Hint: You could save pressing some calculator buttons by setting up the calculation in a spreadsheet -- but its up to you to decide which is quicker!) \n",
    "\n",
    "#### Answer 2\n",
    "\n",
    "*A function is defined for the average speed calculation and the conversion from ms$^{-1}$ to mph. These functions are then called in a pair of loops through the elements and the temperatures.*"
   ]
  },
  {
   "cell_type": "code",
   "execution_count": 12,
   "metadata": {},
   "outputs": [
    {
     "name": "stdout",
     "output_type": "stream",
     "text": [
      "c = sqrt( (3 * 8.314 [J/Kmol] * 298.15 [K]) / 20.18 [g/mol] )\n",
      "neon - average speed @ 25 C = 19.20 m/s\n",
      "c = 19.197 m/s = 1.192e-02 miles/s = 42.916 mph\n",
      "neon - average speed @ 25 C = 42.92 mph \n",
      "\n",
      "c = sqrt( (3 * 8.314 [J/Kmol] * 523.15 [K]) / 20.18 [g/mol] )\n",
      "neon - average speed @ 250 C = 25.43 m/s\n",
      "c = 25.428 m/s = 1.579e-02 miles/s = 56.848 mph\n",
      "neon - average speed @ 250 C = 56.85 mph \n",
      "\n",
      "c = sqrt( (3 * 8.314 [J/Kmol] * 298.15 [K]) / 83.8 [g/mol] )\n",
      "krypton - average speed @ 25 C = 9.42 m/s\n",
      "c = 9.420 m/s = 5.850e-03 miles/s = 21.060 mph\n",
      "krypton - average speed @ 25 C = 21.06 mph \n",
      "\n",
      "c = sqrt( (3 * 8.314 [J/Kmol] * 523.15 [K]) / 83.8 [g/mol] )\n",
      "krypton - average speed @ 250 C = 12.48 m/s\n",
      "c = 12.478 m/s = 7.749e-03 miles/s = 27.897 mph\n",
      "krypton - average speed @ 250 C = 27.90 mph \n",
      "\n",
      "c = sqrt( (3 * 8.314 [J/Kmol] * 298.15 [K]) / 131.29 [g/mol] )\n",
      "argon - average speed @ 25 C = 7.53 m/s\n",
      "c = 7.526 m/s = 4.674e-03 miles/s = 16.825 mph\n",
      "argon - average speed @ 25 C = 16.83 mph \n",
      "\n",
      "c = sqrt( (3 * 8.314 [J/Kmol] * 523.15 [K]) / 131.29 [g/mol] )\n",
      "argon - average speed @ 250 C = 9.97 m/s\n",
      "c = 9.969 m/s = 6.191e-03 miles/s = 22.287 mph\n",
      "argon - average speed @ 250 C = 22.29 mph \n",
      "\n"
     ]
    }
   ],
   "source": [
    "def averagespeed(T, m):\n",
    "    # this is a function to calculate, and return the average speed.\n",
    "    R = 8.314 #J K-1 mol-1\n",
    "    c = sqrt((3 * R * T) / m)\n",
    "    print('c = sqrt( (3 * {} [J/Kmol] * {} [K]) / {} [g/mol] )'\n",
    "          .format(R, T, m))\n",
    "    return c\n",
    "\n",
    "def convert_to_mph(c):\n",
    "    # this is a function to convert c to mph\n",
    "    c_miles_per_second = c * 0.000621 # miles per second\n",
    "    c_mph = c_miles_per_second * 60 * 60 # miles per hour\n",
    "    print('c = {:.3f} m/s = {:.3e} miles/s = {:.3f} mph'\n",
    "          .format(c, c_miles_per_second, c_mph))\n",
    "    return c_mph\n",
    "    \n",
    "# the three elements we are studying and their masses\n",
    "elements = ['neon', 'krypton', 'argon']\n",
    "masses = [20.18, 83.8, 131.29]\n",
    "\n",
    "# the two temperatures to be calculated\n",
    "temperatures = [25, 250]\n",
    "\n",
    "# this loops through the three different elements\n",
    "for i in range(0, 3):\n",
    "    # this loops through the two temperatures\n",
    "    for j in range(0, 2):\n",
    "        # converting the molecular masses from g mol-1 to kg mol-1\n",
    "        mass_kg = masses[i] * 1e-3\n",
    "        # converting the temperatures from degrees C into kelvin\n",
    "        temp_K = temperatures[j] + 273.15 #K\n",
    "        # calling the function defined above\n",
    "        c = averagespeed(temp_K, masses[i])\n",
    "        print('{} - average speed @ {} C = {:.2f} m/s'\n",
    "              .format(elements[i], temperatures[j], c))\n",
    "        # calling the other function defined above\n",
    "        c_mph = convert_to_mph(c)\n",
    "        print('{} - average speed @ {} C = {:.2f} mph \\n'\n",
    "              .format(elements[i], temperatures[j], c_mph))"
   ]
  },
  {
   "cell_type": "markdown",
   "metadata": {},
   "source": [
    "### Question 3\n",
    "\n",
    "Most cars have safety 'air bags' which are designed to inflate within a few milliseconds of a collision. An accelerometer detects the impact and triggers a chemical reaction e.g. the decomposition of sodium azide, NaN$_3$, to release a large volume of nitrogen gas. An airbag needs 60 dm$^3$ of gas to inflate at 298 K. \n",
    "\n",
    "- a) Write a balanced equation for sodium azide reacting to form sodium and nitrogen.\n",
    "\n",
    "Use the ideal gas equation to calculate: \n",
    "\n",
    "- b) the number of moles of N$_2$ gas at 298 K required to inflate the air bag to a pressure of 1 atm. \n",
    "- c) the number of moles and the mass of NaN$_3$ required to produce this amount of gas.\n",
    "- d) the volume of gas produced by this mass on a cold day when the temperature in the car might be 5 $^\\circ$C.\n",
    "- e) How good is the assumption of ideality in this case?\n",
    "\n",
    "#### Answer 3a\n",
    "\n",
    "$$ 2\\text{NaN}_3\\text{(s)} \\rightarrow 2\\text{Na(s)} + 3\\text{N}_2\\text{(g)}   $$  \n",
    "\n",
    "#### Answer 3b\n",
    "\n",
    "*More unit conversions and the ideal gas law.*"
   ]
  },
  {
   "cell_type": "code",
   "execution_count": 10,
   "metadata": {},
   "outputs": [
    {
     "name": "stdout",
     "output_type": "stream",
     "text": [
      "p = 1 [atm] * 101325.0 [Pa/atm] = 101325.0 [Pa]\n",
      "V_m3 = 60 [dm3] * 0.001 [m3/dm3] = 0.06 [m3]\n",
      "n = 2.454 moles\n"
     ]
    }
   ],
   "source": [
    "# defining the variables \n",
    "p = 1 #atm\n",
    "V = 60 #dm3\n",
    "R = 8.314 #J K-1 mol-1\n",
    "T = 298 #K\n",
    "\n",
    "# converting atmospheres to pascals and dm3 to m3\n",
    "p_SI = p * Pa_per_atm #Pa atm-1\n",
    "print('p = {} [atm] * {} [Pa/atm] = {} [Pa]'.format(p, Pa_per_atm, p_SI))\n",
    "m3_per_dm3 = 0.001 #m3 dm-3\n",
    "V_m3 = V * m3_per_dm3\n",
    "print('V_m3 = {} [dm3] * {} [m3/dm3] = {} [m3]'.format(V, m3_per_dm3, V_m3))\n",
    "\n",
    "# calculation of the number of moles from the ideal gas law\n",
    "n = (p_SI * V_m3) / (R * T)\n",
    "print('n = {:.3f} moles'.format(n))"
   ]
  },
  {
   "cell_type": "markdown",
   "metadata": {},
   "source": [
    "#### Answer 3c\n",
    "\n",
    "*Calculating the number of moles from the reaction equation and then a mass/molecular weight calculation.*"
   ]
  },
  {
   "cell_type": "code",
   "execution_count": 11,
   "metadata": {},
   "outputs": [
    {
     "name": "stdout",
     "output_type": "stream",
     "text": [
      "moles of NaN3 = 0.667 [mol] * 2.454 = 1.636 [mol]\n",
      "amount of NaN3 produced = 1.636 mol\n"
     ]
    }
   ],
   "source": [
    "# the ratio of NaN3 to N2 from the reaction equation\n",
    "nan3_per_n2 = 2. / 3.\n",
    "\n",
    "# This ratio is then applied to the number of moles calculated above\n",
    "n_nan3 = nan3_per_n2 * n\n",
    "\n",
    "print('moles of NaN3 = {:.3f} [mol] * {:.3f} = {:.3f} [mol]'\n",
    "      .format(nan3_per_n2, n, n_nan3))\n",
    "print('amount of NaN3 produced = {:.3f} mol'.format(n_nan3))"
   ]
  },
  {
   "cell_type": "code",
   "execution_count": 12,
   "metadata": {},
   "outputs": [
    {
     "name": "stdout",
     "output_type": "stream",
     "text": [
      "m = 65 [g/mol] * 1.636 [mol] = 106.332 [g]\n",
      "Mass of NaN3 = 106.332 g\n"
     ]
    }
   ],
   "source": [
    "# simple molecular weight calculation\n",
    "Mw = 65 #g mol-1\n",
    "m = Mw * n_nan3\n",
    "print('m = {} [g/mol] * {:.3f} [mol] = {:.3f} [g]'.format(Mw, n_nan3, m))\n",
    "print('Mass of NaN3 = {:.3f} g'.format(m))"
   ]
  },
  {
   "cell_type": "markdown",
   "metadata": {
    "collapsed": true
   },
   "source": [
    "#### Answer 3d\n",
    "\n",
    "*Putting the number calculated previously back into the ideal gas law with a different temperature defined.*"
   ]
  },
  {
   "cell_type": "code",
   "execution_count": 13,
   "metadata": {},
   "outputs": [
    {
     "name": "stdout",
     "output_type": "stream",
     "text": [
      "5 degrees C = 278.15 K\n",
      "V = (2.454 [mol] * 8.314 [J/Kmol] * 278.15 [K]) / 1 [Pa] = 5674.540 [m3]\n",
      "The volume at the lower temperature would be 5674.540 m3\n"
     ]
    }
   ],
   "source": [
    "# need to convert the temperature to kelvin \n",
    "T = 5 #degC\n",
    "\n",
    "T_K = 5 + 273.15\n",
    "print('{} degrees C = {} K'.format(T, T_K))\n",
    "\n",
    "# then get the new volume with everything else the same\n",
    "V = (n * R * T_K) / p\n",
    "\n",
    "print('V = ({:.3f} [mol] * {} [J/Kmol] * {} [K]) / {} [Pa] = {:.3f} [m3]'\n",
    "      .format(n, R, T_K, p, V))\n",
    "print('The volume at the lower temperature would be {:.3f} m3'.format(V))"
   ]
  },
  {
   "cell_type": "markdown",
   "metadata": {},
   "source": [
    "#### Answer 3e \n",
    "\n",
    "*1 atm is a relatively low pressure so the gas molecules will be far apart and non-interactive. Nitrogen is inert so interactions are weak. Hence the assumption of ideality is probably reasonable under these conditions. *\n",
    "\n",
    "### Question 4 \n",
    "\n",
    "Identify the intermolecular forces(s) operating in the condensed phases of the following substances. Suggest which intermolecular force would make the largest contribution to the attraction between the molecules. \n",
    "\n",
    "- a) Cl$_2$\n",
    "- b) CO\n",
    "- c) SO$_2$\n",
    "- d) CH$_2$Cl$_2$\n",
    "- e) HF\n",
    "- f) H$_2$O\n",
    "\n",
    "#### Answer 4\n",
    "\n",
    "- *a) Cl$_2$ is symmetrical and so has no permanent dipole. Only dispersion interactions take place. *\n",
    "- *b) CO contains a permanent dipole since O is more electronegative. Dipolar interaction, dipole-induced dipole interactions and dispersion interactions are present. *\n",
    "- *c) SO$_2$ is bent and so has a permanent dipole -- same interactions as (b) although smaller in magnitude. *\n",
    "- *d) CH$_2$Cl$_2$ has a permanent dipole due to the tetrahedral arrangement around C. Interactions therefore as (b).*\n",
    "- *e) HF has dipolar and dispersion interactions but also can hydrogen bond. *\n",
    "- *f) H$_2$O is bent (lone pairs on O) and so has a permanent dipole as interactions as (b).*\n",
    "\n",
    "*The important factor here is to consider the magnitudes of the various contributions and to realise that dispersion > dipole-dipole (usually -- in fact, almost always)* \n",
    "\n",
    "### Question 5 \n",
    "\n",
    "Why is the triple point at a higher temperature and lower pressure for CO$_2$ than for N$_2$? \n",
    "\n",
    "#### Answer 5\n",
    "\n",
    "*The point is to equate the triple point with deviations from ideal behaviour. CO$_2$ is heavier and has stronger intermolecular interactions than N$_2$ and hence would be expected to condense at a higher pressure/temperature than nitrogen. Another example of intermolecular interactions defining builk molecular behaviour (like boiling points).*\n",
    "\n",
    "### Question 6\n",
    "\n",
    "Values of the molecular polarizability, $\\alpha$, and the dipole moment, $\\mu$, are given for four compounds along with their boiling points, $T_B$\n",
    "\n",
    "How would you expect $\\alpha$ and $\\mu$ to influence $T_B$? Discuss and explain any trends in the data in the table below. Identify and explain any anomalies. \n",
    "\n",
    "|   | propane | dimethyl ether | 1,2-epoxyethane | ethanol |\n",
    "|---|---|---|---|---\n",
    "| $\\alpha$/$10^{-24}$ cm$^3$ | 6.4 | 6.0 | 5.2 | 5.2 |\n",
    "| $\\mu$/D | 0 | 1.3 | 1.9 | 1.7 |\n",
    "| $T_B$/$^\\circ$C | -42 | -22 | 10.4 | 78.5 |\n",
    "\n",
    "#### Answer 6\n",
    "\n",
    "- *Propane: no dipole, just dispersion interactions so lowest boiling point*\n",
    "- *Dimethyl ether: dipole moment (due to shape) but a slightly lower polarizability. Strogner interactions so higher boiling point. *\n",
    "- *Ethylene oxide: higher dipole moment and slightly lower polarizability, higher boiling point again. *\n",
    "- *Ethanol: same polarizability as ethylene oxide and lower dipole moment so would expect a lower boiling point, but is much higher due to hydrogen bonding. *"
   ]
  },
  {
   "cell_type": "markdown",
   "metadata": {},
   "source": [
    "Optional 'stretch' question.\n",
    "\n",
    "Note: this is probably difference from the type of problem you met before University. Some thinking will be needed. You can't simply look up an equation and substitute in the numbers!\n",
    "\n",
    "### Question 7\n",
    "\n",
    "Reorganise the ideal gas equation by substituting in the molar mass, $M$ and the mass density, $\\rho$ (i.e. mass per unit volume), of the gas to give a relationship between the pressure and the density. \n",
    "\n",
    "The data below refer to dimethyl ether (methoxymethane, CH$_3$OCH$_3$) gas at 25 $^\\circ$C.\n",
    "\n",
    "- a) Plot a graph of the data to demonstrate whether the gas acts as an ideal gas. Comment on the graph and the behaviour of the gas. \n",
    "- b) From the results, calculate the relative molar mass of the gas and compare it with the value obtained by adding up the relative atomic masses. \n",
    "\n",
    "#### Answer 7\n",
    "\n",
    "*This involves plotting the given data, and drawing an appropriate straight line*"
   ]
  },
  {
   "cell_type": "code",
   "execution_count": 14,
   "metadata": {},
   "outputs": [
    {
     "data": {
      "image/png": "[encoded data removed]",
      "text/plain": [
       "<matplotlib.figure.Figure at 0x7f140edabda0>"
      ]
     },
     "metadata": {},
     "output_type": "display_data"
    }
   ],
   "source": [
    "# these are the datasets given in the tutorial\n",
    "p = [0, 12231, 25195, 36970, 60367, 85231, 101325] #Pa\n",
    "rho = [0, 0.232, 0.489, 0.733, 1.25, 1.87, 2.3] #kg m-3\n",
    "\n",
    "# this draws the plot\n",
    "plt.figure(figsize=(15, 8))\n",
    "plt.plot(rho[1:], p[1:], 'o', markersize=15)\n",
    "plt.xlabel('density/kgm-3')\n",
    "plt.ylabel('pressure/Pa')\n",
    "plt.show()"
   ]
  },
  {
   "cell_type": "markdown",
   "metadata": {},
   "source": [
    "*The line doesn't look super straight but let us draw a line of best fit anyway.*"
   ]
  },
  {
   "cell_type": "code",
   "execution_count": 15,
   "metadata": {},
   "outputs": [
    {
     "data": {
      "image/png": "[encoded data removed]",
      "text/plain": [
       "<matplotlib.figure.Figure at 0x7f14344c88d0>"
      ]
     },
     "metadata": {},
     "output_type": "display_data"
    },
    {
     "name": "stdout",
     "output_type": "stream",
     "text": [
      "The slope of the line of best fit is 43936.292 Pa kg-1 m3.\n",
      "\n"
     ]
    }
   ],
   "source": [
    "# this determines the line of best fit with the intercept held at zero\n",
    "slope, intercept, rvalue, pvalue, stderr = linregress(rho, p)\n",
    "\n",
    "# then draw a line of best fit over the data\n",
    "y = slope * np.asarray(rho)\n",
    "\n",
    "# this allows both the data and the line of best fit to be plotted\n",
    "plt.figure(figsize=(15, 8))\n",
    "plt.plot(rho[1:], p[1:], 'o', markersize=15)\n",
    "plt.plot(rho, y, '-', linewidth=5)\n",
    "plt.xlabel('density/kgm-3')\n",
    "plt.ylabel('pressure/Pa')\n",
    "plt.xlim([0, 2.5])\n",
    "plt.ylim([0, 120000])\n",
    "plt.show()\n",
    "\n",
    "print('The slope of the line of best fit is {:.3f} Pa kg-1 m3.\\n'\n",
    "      .format(slope))"
   ]
  },
  {
   "cell_type": "markdown",
   "metadata": {},
   "source": [
    "*Try and calculate the molar mass to see if it matches.*"
   ]
  },
  {
   "cell_type": "code",
   "execution_count": 16,
   "metadata": {},
   "outputs": [
    {
     "name": "stdout",
     "output_type": "stream",
     "text": [
      "Mw = (8.314 [J/Kmol] * 298.15 [K]) / 43936.292 [Pam3/kg] = 0.056 [kg/mol]\n",
      "Mw = 0.056 [kg/mol] = 56.418 [g/mol]\n",
      "The molecular weight is 56.418 g mol-1 it should be 47.74 g mol-1\n"
     ]
    }
   ],
   "source": [
    "R = 8.314 #J K-1 mol-1\n",
    "T = 298.15 #T\n",
    "\n",
    "Mw_kg = (R * T) / slope #kg mol-1\n",
    "print('Mw = ({} [J/Kmol] * {} [K]) / {:.3f} [Pam3/kg] = {:.3f} [kg/mol]'\n",
    "      .format(R, T, slope, Mw_kg))\n",
    "\n",
    "g_per_kg = 1000 #g kg-1\n",
    "Mw = Mw_kg * g_per_kg\n",
    "\n",
    "print('Mw = {:.3f} [kg/mol] = {:.3f} [g/mol]'.format(Mw_kg, Mw))\n",
    "print('The molecular weight is {:.3f} g mol-1 it should be 47.74 g mol-1'\n",
    "      .format(Mw))"
   ]
  },
  {
   "cell_type": "markdown",
   "metadata": {},
   "source": [
    "*It doesn't match! As mentioned above this straight line is not suitable (as the data points used aren't straight). This is because at highest pressure and density the ideal gas law no longer applies. Instead only the first data point and the assumption that the line passes through the intercept are used. *"
   ]
  },
  {
   "cell_type": "code",
   "execution_count": 17,
   "metadata": {},
   "outputs": [
    {
     "data": {
      "image/png": "[encoded data removed]",
      "text/plain": [
       "<matplotlib.figure.Figure at 0x7f143446a3c8>"
      ]
     },
     "metadata": {},
     "output_type": "display_data"
    },
    {
     "name": "stdout",
     "output_type": "stream",
     "text": [
      "This gives a different slope of 51504.189 Pa kg-1 m3\n"
     ]
    }
   ],
   "source": [
    "# this determines the line of best fit for the first and intercept points\n",
    "slope, intercept, rvalue, pvalue, stderr = linregress(rho[:3], p[:3])\n",
    "\n",
    "# the line of best fit is found\n",
    "y = slope * np.asarray(rho)\n",
    "\n",
    "# this allows both the data and the new line of best fit to be plotted\n",
    "plt.figure(figsize=(15, 8))\n",
    "plt.plot(rho[1:], p[1:], 'o', markersize=15)\n",
    "plt.plot(rho, y, '-', linewidth=5)\n",
    "plt.xlabel('density/kgm-3')\n",
    "plt.ylabel('pressure/Pa')\n",
    "plt.xlim([0, 2.5])\n",
    "plt.ylim([0, 120000])\n",
    "plt.show()\n",
    "\n",
    "print('This gives a different slope of {:.3f} Pa kg-1 m3'.format(slope))"
   ]
  },
  {
   "cell_type": "markdown",
   "metadata": {},
   "source": [
    "*We can see if this slope gives a better molecular weight.*"
   ]
  },
  {
   "cell_type": "code",
   "execution_count": 18,
   "metadata": {},
   "outputs": [
    {
     "name": "stdout",
     "output_type": "stream",
     "text": [
      "Mw = (8.314 [J/Kmol] * 298.15 [K]) / 51504.189 [Pam3/kg] = 0.048 [kg/mol]\n",
      "Mw = 0.048 [kg/mol] = 48.128 [g/mol]\n",
      "The molecular weight is 48.128 g mol-1 is should be 47.74 g mol-1.\n"
     ]
    }
   ],
   "source": [
    "R = 8.314 #J K-1 mol-1\n",
    "T = 298.15 #T\n",
    "\n",
    "Mw_kg = (R * T) / slope #kg mol-1\n",
    "print('Mw = ({} [J/Kmol] * {} [K]) / {:.3f} [Pam3/kg] = {:.3f} [kg/mol]'\n",
    "      .format(R, T, slope, Mw_kg))\n",
    "\n",
    "g_per_kg = 1000 #g kg-1\n",
    "Mw = Mw_kg * g_per_kg\n",
    "\n",
    "print('Mw = {:.3f} [kg/mol] = {:.3f} [g/mol]'.format(Mw_kg, Mw))\n",
    "print('The molecular weight is {:.3f} g mol-1 is should be 47.74 g mol-1.'\n",
    "      .format(Mw))"
   ]
  },
  {
   "cell_type": "code",
   "execution_count": null,
   "metadata": {
    "collapsed": true
   },
   "outputs": [],
   "source": []
  }
 ],
 "metadata": {
  "kernelspec": {
   "display_name": "Python 3 (ipykernel)",
   "language": "python",
   "name": "python3"
  },
  "language_info": {
   "codemirror_mode": {
    "name": "ipython",
    "version": 3
   },
   "file_extension": ".py",
   "mimetype": "text/x-python",
   "name": "python",
   "nbconvert_exporter": "python",
   "pygments_lexer": "ipython3",
   "version": "3.7.12"
  },
  "latex_envs": {
   "LaTeX_envs_menu_present": true,
   "autoclose": false,
   "autocomplete": true,
   "bibliofile": "biblio.bib",
   "cite_by": "apalike",
   "current_citInitial": 1,
   "eqLabelWithNumbers": true,
   "eqNumInitial": 1,
   "hotkeys": {
    "equation": "Ctrl-E",
    "itemize": "Ctrl-I"
   },
   "labels_anchors": false,
   "latex_user_defs": false,
   "report_style_numbering": false,
   "user_envs_cfg": false
  }
 },
 "nbformat": 4,
 "nbformat_minor": 2
}
