{
 "cells": [
  {
   "cell_type": "code",
   "execution_count": 53,
   "metadata": {
    "collapsed": true
   },
   "outputs": [],
   "source": [
    "import numpy as np"
   ]
  },
  {
   "cell_type": "code",
   "execution_count": 54,
   "metadata": {
    "collapsed": true
   },
   "outputs": [],
   "source": [
    "def getEnthalpyChange(products, reactants):\n",
    "    return np.sum(products) - np.sum(reactants)"
   ]
  },
  {
   "cell_type": "markdown",
   "metadata": {},
   "source": [
    "### Question 1\n",
    "\n",
    "The conversion of calcite to aragonite\n",
    "\n",
    "$$\\text{calcite} \\rightarrow \\text{aragonite}$$"
   ]
  },
  {
   "cell_type": "code",
   "execution_count": 55,
   "metadata": {
    "collapsed": true
   },
   "outputs": [],
   "source": [
    "deltafH_products = [-1207.1] #kJmol-1\n",
    "deltafH_reactants = [-1206.9] #kJmol-1"
   ]
  },
  {
   "cell_type": "code",
   "execution_count": 56,
   "metadata": {},
   "outputs": [
    {
     "name": "stdout",
     "output_type": "stream",
     "text": [
      "The enathlpy change is -0.2 kJmol-1\n"
     ]
    }
   ],
   "source": [
    "deltarH = getEnthalpyChange(deltafH_products, deltafH_reactants)\n",
    "print('The enathlpy change is {:.1f} kJmol-1'.format(deltarH))"
   ]
  },
  {
   "cell_type": "markdown",
   "metadata": {},
   "source": [
    "### Question 2\n",
    "\n",
    "The standard enthalpy change of the following at 298 K\n",
    "\n",
    "$$\\text{NiO(s)} + \\text{CO(g)} \\rightarrow \\text{Ni(s)} + \\text{CO}_2\\text{(g)}$$\n",
    "$$2\\text{NO(g)} + 2\\text{CO(g)} \\rightarrow \\text{N}_2\\text{(g)} + 2\\text{CO}_2\\text{(g)}$$\n",
    "\n",
    "For the first reaction"
   ]
  },
  {
   "cell_type": "code",
   "execution_count": 57,
   "metadata": {
    "collapsed": true
   },
   "outputs": [],
   "source": [
    "deltafH_products = [0, -393.5] #kJmol-1\n",
    "deltafH_reactants = [-244.3, -110.5] #kJmol-1"
   ]
  },
  {
   "cell_type": "code",
   "execution_count": 58,
   "metadata": {},
   "outputs": [
    {
     "name": "stdout",
     "output_type": "stream",
     "text": [
      "The enthalpy change for the first reaction is -38.7 kJmol-1\n"
     ]
    }
   ],
   "source": [
    "deltarH = getEnthalpyChange(deltafH_products, deltafH_reactants)\n",
    "print('The enthalpy change for the first reaction is {:.1f} kJmol-1'.format(deltarH))"
   ]
  },
  {
   "cell_type": "code",
   "execution_count": 59,
   "metadata": {
    "collapsed": true
   },
   "outputs": [],
   "source": [
    "deltafH_products = [0, -393.5, -393.5] #kJmol-1\n",
    "deltafH_reactants = [90.3, 90.3, -110.5, -110.5] #kJmol-1"
   ]
  },
  {
   "cell_type": "code",
   "execution_count": 60,
   "metadata": {},
   "outputs": [
    {
     "name": "stdout",
     "output_type": "stream",
     "text": [
      "The enthalpy change for the second reaction is -746.6 kJmolN2-1\n"
     ]
    }
   ],
   "source": [
    "deltarH = getEnthalpyChange(deltafH_products, deltafH_reactants)\n",
    "print('The enthalpy change for the second reaction is {:.1f} kJmolN2-1'.format(deltarH))"
   ]
  },
  {
   "cell_type": "markdown",
   "metadata": {
    "collapsed": true
   },
   "source": [
    "### Question 3\n",
    "\n",
    "Calculate the equilibrium constant for a *cis-trans* isomerism, and determine the equilibrium mole fractions at 298 K"
   ]
  },
  {
   "cell_type": "code",
   "execution_count": 61,
   "metadata": {},
   "outputs": [
    {
     "name": "stdout",
     "output_type": "stream",
     "text": [
      "K = 4.399\n"
     ]
    }
   ],
   "source": [
    "deltaG = -3.67 #kJmol-1\n",
    "J_per_kJ = 1e3\n",
    "deltaG = deltaG * J_per_kJ\n",
    "\n",
    "R = 8.314 #JK-1mol-1\n",
    "T = 298 #K\n",
    "\n",
    "K = np.exp(-1 * deltaG/(R*T))\n",
    "print('K = {:.3f}'.format(K))"
   ]
  },
  {
   "cell_type": "markdown",
   "metadata": {},
   "source": [
    "$$ \\frac{x_{\\text{trans}}}{x_{\\text{cis}}} = K$$\n",
    "\n",
    "$$ x_{\\text{trans}} = 1 - x_{\\text{cis}} $$\n",
    "\n",
    "$$ x_{\\text{cis}} = \\frac{1}{1 + K} $$"
   ]
  },
  {
   "cell_type": "code",
   "execution_count": 62,
   "metadata": {},
   "outputs": [
    {
     "name": "stdout",
     "output_type": "stream",
     "text": [
      "The mole fraction of the cis isomer is 0.185 and of the trans isomer is 0.815\n"
     ]
    }
   ],
   "source": [
    "x_cis = 1 / (1 + K)\n",
    "x_trans = 1 - x_cis \n",
    "print('The mole fraction of the cis isomer is {:.3f} \\\n",
    "and of the trans isomer is {:.3f}'.format(x_cis, x_trans))"
   ]
  },
  {
   "cell_type": "markdown",
   "metadata": {},
   "source": [
    "### Question 4\n",
    "\n",
    "Get enthalpy change, entropy change, Gibbs free energy change at 25 C and 250 C, and equilibrium constant at 25 C and 250 C for the following reaction. \n",
    "\n",
    "$$\\text{CO(g)} + \\text{H}_2\\text{O(g)} \\rightarrow \\text{CO}_2\\text{(g)} + \\text{H}_2\\text{(g)}$$"
   ]
  },
  {
   "cell_type": "code",
   "execution_count": 63,
   "metadata": {},
   "outputs": [
    {
     "name": "stdout",
     "output_type": "stream",
     "text": [
      "Enthalpy change = -41.2 kJmol-1\n"
     ]
    }
   ],
   "source": [
    "deltafH_products = [-393.5, 0]\n",
    "deltafH_reactants = [-241.8, -110.5]\n",
    "deltarH = getEnthalpyChange(deltafH_products, deltafH_reactants)\n",
    "print('Enthalpy change = {:.1f} kJmol-1'.format(deltarH))"
   ]
  },
  {
   "cell_type": "code",
   "execution_count": 64,
   "metadata": {},
   "outputs": [
    {
     "name": "stdout",
     "output_type": "stream",
     "text": [
      "Entropy change = -42.1 JK-1mol-1\n"
     ]
    }
   ],
   "source": [
    "S_products = [213.6, 130.6]\n",
    "S_reactants = [188.7, 197.6]\n",
    "deltarS = np.sum(S_products) - np.sum(S_reactants)\n",
    "print('Entropy change = {:.1f} JK-1mol-1'.format(deltarS))"
   ]
  },
  {
   "cell_type": "code",
   "execution_count": 65,
   "metadata": {},
   "outputs": [
    {
     "name": "stdout",
     "output_type": "stream",
     "text": [
      "Gibbs free energy change at 25 C = -28.6 kJmol-1\n",
      "Gibbs free energy change at 525 C = -7.6 kJmol-1\n"
     ]
    }
   ],
   "source": [
    "def Gibbs(deltrH, T, deltarS):\n",
    "    return deltrH - T * deltarS\n",
    "\n",
    "kJ_per_J = 1e-3\n",
    "\n",
    "G_25 = Gibbs(deltarH, 25 + 273.15, deltarS * kJ_per_J)\n",
    "G_525 = Gibbs(deltarH, 525 + 273.15, deltarS * kJ_per_J)\n",
    "print('Gibbs free energy change at 25 C = {:.1f} kJmol-1'.format(G_25))\n",
    "print('Gibbs free energy change at 525 C = {:.1f} kJmol-1'.format(G_525))"
   ]
  },
  {
   "cell_type": "code",
   "execution_count": 66,
   "metadata": {},
   "outputs": [
    {
     "name": "stdout",
     "output_type": "stream",
     "text": [
      "Equilibrium constant at 25 C = 104513.304\n",
      "Equilibrium constant at 525 C = 3.142\n"
     ]
    }
   ],
   "source": [
    "def equil(G, R, T):\n",
    "    return np.exp(-1 * G/(R*T))\n",
    "\n",
    "K_25 = equil(G_25, 8.314 * kJ_per_J, 25 + 273.15)\n",
    "K_525 = equil(G_525, 8.314 * kJ_per_J, 525 + 273.15)\n",
    "print('Equilibrium constant at 25 C = {:.3f}'.format(K_25))\n",
    "print('Equilibrium constant at 525 C = {:.3f}'.format(K_525))"
   ]
  },
  {
   "cell_type": "markdown",
   "metadata": {},
   "source": [
    "From the reaction stiochiometry the pressures of CO and H$_2$O must be the same as the pressures of CO$_2$ and H$_2$, \n",
    "\n",
    "$$p_{\\text{H}_2\\text{O}} = p_{\\text{CO}} = 0.5\\text{ bar}$$\n",
    "\n",
    "$$p_{\\text{C}\\text{O}_2} = p_{\\text{H}_2} = x$$\n",
    "\n",
    "$$K = \\frac{x^2}{0.5^2}$$"
   ]
  },
  {
   "cell_type": "code",
   "execution_count": 68,
   "metadata": {},
   "outputs": [
    {
     "name": "stdout",
     "output_type": "stream",
     "text": [
      "pressure of H2 = 0.886 bar\n"
     ]
    }
   ],
   "source": [
    "x = 0.5 * np.sqrt(K_525)\n",
    "print('pressure of H2 = {:.3f} bar'.format(x))"
   ]
  },
  {
   "cell_type": "markdown",
   "metadata": {
    "collapsed": true
   },
   "source": [
    "### Question 5\n",
    "\n",
    "Determine the partial pressure of CO$_2$ at equilibrium."
   ]
  },
  {
   "cell_type": "code",
   "execution_count": 24,
   "metadata": {},
   "outputs": [
    {
     "name": "stdout",
     "output_type": "stream",
     "text": [
      "78.8 kJmol-1\n"
     ]
    }
   ],
   "source": [
    "deltafH_products = [-29.07, -393.5]\n",
    "deltafH_reactants = [-501.4]\n",
    "deltarH = getEnthalpyChange(deltafH_products, deltafH_reactants)\n",
    "print('{:.1f} kJmol-1'.format(deltarH))"
   ]
  },
  {
   "cell_type": "code",
   "execution_count": 31,
   "metadata": {},
   "outputs": [
    {
     "name": "stdout",
     "output_type": "stream",
     "text": [
      "168.1 JK-1mol-1\n"
     ]
    }
   ],
   "source": [
    "S_products = [121.7, 213.7]\n",
    "S_reactants = [167.3]\n",
    "deltarS = np.sum(S_products) - np.sum(S_reactants)\n",
    "print('{:.1f} JK-1mol-1'.format(deltarS))"
   ]
  },
  {
   "cell_type": "code",
   "execution_count": 32,
   "metadata": {},
   "outputs": [
    {
     "name": "stdout",
     "output_type": "stream",
     "text": [
      "14.4 kJmol\n"
     ]
    }
   ],
   "source": [
    "T = 383 #K\n",
    "\n",
    "G = Gibbs(deltarH, T, deltarS * kJ_per_J)\n",
    "print('{:.1f} kJmol'.format(G))"
   ]
  },
  {
   "cell_type": "code",
   "execution_count": 33,
   "metadata": {},
   "outputs": [
    {
     "name": "stdout",
     "output_type": "stream",
     "text": [
      "0.011\n"
     ]
    }
   ],
   "source": [
    "R = 8.314 * 1e-3\n",
    "K = equil(G, R, T)\n",
    "print('{:.3f}'.format(K))"
   ]
  },
  {
   "cell_type": "markdown",
   "metadata": {},
   "source": [
    "Therefore pCO2 = 0.011 bar\n",
    "\n",
    "The minimum temperature is the temperature where the pCO2 is the same as in the atmosphere, 4e-4 bar\n",
    "\n",
    "$$\\Delta_rG = -RT\\ln{(4\\times 10^{-4})} = \\Delta_rH - T\\Delta_rS$$\n",
    "\n",
    "$$T = \\frac{\\Delta_rH}{\\Delta_rS-R\\ln K}$$"
   ]
  },
  {
   "cell_type": "code",
   "execution_count": 38,
   "metadata": {},
   "outputs": [
    {
     "name": "stdout",
     "output_type": "stream",
     "text": [
      "T = 338.1 K\n"
     ]
    }
   ],
   "source": [
    "T = deltarH / ((deltarS * 1e-3) - (R * np.log(4e-4)))\n",
    "print('T = {:.1f} K'.format(T))"
   ]
  },
  {
   "cell_type": "markdown",
   "metadata": {},
   "source": [
    "### Question 6\n",
    "\n",
    "Investigating the effect of the melting point as given in the Clapeyron Equation"
   ]
  },
  {
   "cell_type": "code",
   "execution_count": 40,
   "metadata": {},
   "outputs": [
    {
     "data": {
      "text/plain": [
       "-1.5660869565217381"
      ]
     },
     "execution_count": 40,
     "metadata": {},
     "output_type": "execute_result"
    }
   ],
   "source": [
    "molar_mass = 18.01 #gmol-1\n",
    "rho_T2 = 1.00 #gcm-3\n",
    "rho_T1 = 0.92 #gcm-3\n",
    "\n",
    "deltafus_V = molar_mass * (1/rho_T2 - 1/rho_T1)"
   ]
  },
  {
   "cell_type": "code",
   "execution_count": 47,
   "metadata": {},
   "outputs": [
    {
     "name": "stdout",
     "output_type": "stream",
     "text": [
      "The freezing point is 0.005 K above 0 K\n"
     ]
    }
   ],
   "source": [
    "H_fus = 6.01E3 #Jmol-1\n",
    "H_vap = 40.7E3 #Jmol-1\n",
    "T = 273.15 #K\n",
    "\n",
    "dpdT = H_fus / (T * deltafus_V * 1e-6)\n",
    "\n",
    "deltap = -2/3 * 101325\n",
    "deltaT = deltap / dpdT\n",
    "print('The freezing point is {:.3f} K above 0 K'.format(deltaT))"
   ]
  },
  {
   "cell_type": "markdown",
   "metadata": {},
   "source": [
    "The effect on the boiling point is given by the Clausius-Clapeyron equation\n",
    "\n",
    "$$\\ln{\\frac{p_1}{p_2}} = \\frac{\\Delta_{\\text{vap}}H}{R}\\Bigg(\\frac{1}{T_2} - \\frac{1}{T_1}\\Bigg)$$"
   ]
  },
  {
   "cell_type": "code",
   "execution_count": 52,
   "metadata": {},
   "outputs": [
    {
     "name": "stdout",
     "output_type": "stream",
     "text": [
      "T_1 = 344.32 K\n"
     ]
    }
   ],
   "source": [
    "T2 = 373.15 #K\n",
    "p1 = 1/3 #atm\n",
    "p2 = 1 #atm\n",
    "R = 8.314 #JK-1mol-1\n",
    "\n",
    "T1 = 1 / ((1/T2) - (R * np.log(p1/p2) / H_vap))\n",
    "print('T_1 = {:.2f} K'.format(T1))"
   ]
  },
  {
   "cell_type": "markdown",
   "metadata": {},
   "source": [
    "It is clear that Tm is influenced much less than Tb"
   ]
  },
  {
   "cell_type": "code",
   "execution_count": null,
   "metadata": {
    "collapsed": true
   },
   "outputs": [],
   "source": []
  }
 ],
 "metadata": {
  "kernelspec": {
   "display_name": "Python 3 (ipykernel)",
   "language": "python",
   "name": "python3"
  },
  "language_info": {
   "codemirror_mode": {
    "name": "ipython",
    "version": 3
   },
   "file_extension": ".py",
   "mimetype": "text/x-python",
   "name": "python",
   "nbconvert_exporter": "python",
   "pygments_lexer": "ipython3",
   "version": "3.7.12"
  }
 },
 "nbformat": 4,
 "nbformat_minor": 2
}
