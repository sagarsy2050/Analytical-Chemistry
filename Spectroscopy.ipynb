{
 "cells": [
  {
   "cell_type": "code",
   "execution_count": null,
   "metadata": {
    "collapsed": true
   },
   "outputs": [],
   "source": [
    "import numpy as np\n",
    "import matplotlib.pyplot as plt"
   ]
  },
  {
   "cell_type": "markdown",
   "metadata": {},
   "source": [
    "# Week 29: Spectroscopy\n",
    "\n",
    "## Question 1\n",
    "\n",
    "*What is a Selection Rule in Spectroscopy? You should describe what is meant by both a Gross and a Specific selection rule and their different effects.*\n",
    "\n",
    "Gross: This is to do with the properties of the molecules, the requiresments of the species to be active to a particular type of spectroscopy, e.g. the presence of a molecular dipole, etc. \n",
    "\n",
    "Specific: This is to do with thte allowed transitions between the quantised energy levels. \n",
    "\n",
    "### Rotational \n",
    "\n",
    "Gross: The molecule must have a permanent dipole\n",
    "\n",
    "Specific: $ \\Delta J = \\pm 1$\n",
    "\n",
    "### Vibrational \n",
    "\n",
    "Gross: The dipole must change during vibrational motion\n",
    "\n",
    "Specific: $ \\Delta v = \\pm 1$\n",
    "\n",
    "## Question 2\n",
    "\n",
    "*Write the equations for the rotational constant $B$ for all three of the units in which it is normally expressed. You should show in your working how the units in your equations give the correct unit for $B$!*\n",
    "\n",
    "In Joules:\n",
    "\n",
    "$$ B[\\text{J}] = \\frac{h^2 [\\text{J}^2\\text{ s}^2]}{8\\pi^2 I[\\text{kg m}^2]} = \\frac{h^2 [\\text{J kg m}^2\\text{ s}^{-2}\\text{ s}^2]}{8\\pi^2 I[\\text{kg m}^2]} = \\text{J}$$\n",
    "\n",
    "In cm$^{-1}$:\n",
    "\n",
    "$$ B[\\text{cm}^{-1}] = \\frac{h [\\text{J}\\text{ s}]}{8\\pi^2 I[\\text{kg m}^2] c [\\text{m s}^{-1}]} = \\frac{h [\\text{kg m}^2\\text{ s}^{-2}\\text{ s}]}{8\\pi^2 I[\\text{kg m}^2]c [\\text{m s}^{-1}]} = \\text{m}^{-1} = \\text{cm}^{-1}$$\n",
    "\n",
    "In Hz:\n",
    "\n",
    "$$ B[\\text{Hz}] = \\frac{h [\\text{J}\\text{ s}]}{8\\pi^2 I[\\text{kg m}^2]} = \\frac{h [\\text{kg m}^2\\text{ s}^{-2}\\text{ s}]}{8\\pi^2 I[\\text{kg m}^2]} = \\text{s}^{-1} $$\n",
    "\n",
    "## Question 3\n",
    "\n",
    "*Consecutive lines were observed in the rotational spectrum of $^1\\text{H}^{35}\\text{Cl}$ recorded at 298 K at the following frequencies (measrued in GHz):*\n",
    "\n",
    "*1872 GHz, 2496 GHz, 3120 GHz, 3744 GHz*\n",
    "\n",
    "*(i) In what region of the EM spectrum would these transitions appear?*\n",
    "\n",
    "*(ii) Calculate the value of the rotational constant for $^1\\text{H}^{35}\\text{Cl}$ in Joules.*\n",
    "\n",
    "*(iii) Calculate the moment of inertia and the bond length of $^1\\text{H}^{35}\\text{Cl}$.*\n",
    "\n",
    "*(iv) What is the ratio between the number of molecules in the first rotational excited state ($J = 1$) and the ground state ($J = 0$), at this temperature?*\n",
    "\n",
    "*(v) Assign each of the above peaks in the spectrum to its corresponding transition in the molecule (i.e. $J = ?$ to $J = ??$). *\n",
    "\n",
    "#### (i)"
   ]
  },
  {
   "cell_type": "code",
   "execution_count": null,
   "metadata": {},
   "outputs": [],
   "source": [
    "peaks = np.array([1872, 2496, 3120, 3744])\n",
    "\n",
    "GHz = 1e9\n",
    "peak_Hz = peaks[0] * GHz \n",
    "print('The first peak in reciprocal seconds is: {:.3e} s-1'.format(peak_Hz))"
   ]
  },
  {
   "cell_type": "markdown",
   "metadata": {},
   "source": [
    "This is around the high end of the the microwave region."
   ]
  },
  {
   "cell_type": "code",
   "execution_count": null,
   "metadata": {},
   "outputs": [],
   "source": [
    "peak_Hz = peaks[-1] * GHz \n",
    "print('The last peak in reciprocal seconds is: {:.3e} s-1'.format(peak_Hz))"
   ]
  },
  {
   "cell_type": "markdown",
   "metadata": {},
   "source": [
    "This is around the low end of the IR region.\n",
    "\n",
    "#### (ii)\n",
    "\n",
    "The separation between the adjacent lines is $2B$"
   ]
  },
  {
   "cell_type": "code",
   "execution_count": null,
   "metadata": {},
   "outputs": [],
   "source": [
    "separation = np.ediff1d(peaks)\n",
    "print(separation)"
   ]
  },
  {
   "cell_type": "code",
   "execution_count": null,
   "metadata": {},
   "outputs": [],
   "source": [
    "B = separation[0] / 2\n",
    "B = B * GHz\n",
    "print('B = {:3e} s-1'.format(B))"
   ]
  },
  {
   "cell_type": "code",
   "execution_count": null,
   "metadata": {},
   "outputs": [],
   "source": [
    "from scipy.constants import h\n",
    "\n",
    "E = h * B\n",
    "print('E = {:3e} J'.format(E))"
   ]
  },
  {
   "cell_type": "markdown",
   "metadata": {},
   "source": [
    "#### (iii)"
   ]
  },
  {
   "cell_type": "code",
   "execution_count": null,
   "metadata": {},
   "outputs": [],
   "source": [
    "from math import pi\n",
    "\n",
    "I = (h ** 2) / (8 * pi ** 2 * E)\n",
    "\n",
    "print('I = {:3e} kg m2'.format(I))"
   ]
  },
  {
   "cell_type": "code",
   "execution_count": null,
   "metadata": {},
   "outputs": [],
   "source": [
    "from scipy.constants import Avogadro\n",
    "\n",
    "mH = 1e-3 / Avogadro \n",
    "mCl = 35e-3 / Avogadro\n",
    "\n",
    "mu = (mH * mCl) / (mH + mCl)\n",
    "\n",
    "r = np.sqrt(I / mu)\n",
    "\n",
    "print('r = {:.3e} m = {:.2f} Angstrom'.format(r, r*1e10))"
   ]
  },
  {
   "cell_type": "markdown",
   "metadata": {},
   "source": [
    "#### (iv) \n",
    "\n",
    "$$ \\frac{n_{\\text{upper}}}{n_{\\text{lower}}} = \\frac{g_{\\text{upper}}}{g_{\\text{lower}}} \\exp{\\Bigg(\\frac{-\\Delta E}{k_bT}\\Bigg)} $$"
   ]
  },
  {
   "cell_type": "code",
   "execution_count": null,
   "metadata": {},
   "outputs": [],
   "source": [
    "from scipy.constants import Boltzmann\n",
    "\n",
    "def g(J):\n",
    "    return 2 * J + 1\n",
    "\n",
    "ratio = g(1) / g(0) * np.exp((-2 * E) / (Boltzmann * 298))\n",
    "\n",
    "print('ratio = {:.2f}'.format(ratio))"
   ]
  },
  {
   "cell_type": "markdown",
   "metadata": {},
   "source": [
    "#### (v)\n",
    "\n",
    "The peaks in the microwave spectrum occur at: \n",
    "\n",
    "$$ J = 0 \\rightarrow 1 \\;\\;\\; 2B$$\n",
    "\n",
    "$$ J = 1 \\rightarrow 2 \\;\\;\\; 4B$$\n",
    "\n",
    "$$ J = 2 \\rightarrow 3 \\;\\;\\; 6B$$\n",
    "\n",
    "$$ J = 3 \\rightarrow 4 \\;\\;\\; 8B$$\n",
    "\n",
    "etc.\n",
    "\n",
    "If the first peak is at $2B$, successive peaks are in the ratio 1:2:3:4:5\n",
    "\n",
    "If the first peak is at $4B$, successive peaks are in the ratio 4:6:8:10\n",
    "\n",
    "If the first peak is at $6B$, successive peaks are in the ratio 6:8:10:12"
   ]
  },
  {
   "cell_type": "code",
   "execution_count": null,
   "metadata": {},
   "outputs": [],
   "source": [
    "for i in range(0, len(peaks)):\n",
    "    ratio = peaks[i] / peaks[0]\n",
    "    print(peaks[i] / peaks[0])"
   ]
  },
  {
   "cell_type": "markdown",
   "metadata": {},
   "source": [
    "This is equivalent to 6:8:10:12"
   ]
  },
  {
   "cell_type": "code",
   "execution_count": null,
   "metadata": {},
   "outputs": [],
   "source": [
    "for i in range(0, len(peaks)):\n",
    "    ratio = peaks[i] / peaks[0]\n",
    "    print(peaks[i] / peaks[0] * 6)"
   ]
  },
  {
   "cell_type": "markdown",
   "metadata": {},
   "source": [
    "Therefore, the peaks correspond to:\n",
    "\n",
    "$$ J = 2 \\rightarrow 3, \\;\\;\\;J = 3 \\rightarrow 4, \\;\\;\\;J = 4 \\rightarrow 5, \\;\\;\\;J = 5 \\rightarrow 6$$\n",
    "\n",
    "## Question 4\n",
    "\n",
    "*Rotational spectroscopy can be used to determine the parameters of a gaseous molecule in deep outer space. Outer space is cold (let’s say 3 K).*\n",
    "\n",
    "*Contrast the population of the $J=0$ and $J=1$ rotational states in a molecule in deep outer space with that of the same molecule in the laboratory at 298K, given that its rotational spectrum has a rotational constant, B, of 10.5 cm$^{-1}$.*\n",
    "\n",
    "The first aspect is to calculate the energy corresponding to the $J=0 \\rightarrow 1$ rotational transition, which is equal to $2B$."
   ]
  },
  {
   "cell_type": "code",
   "execution_count": null,
   "metadata": {},
   "outputs": [],
   "source": [
    "from scipy.constants import c\n",
    "\n",
    "B = 10.5 #cm-1\n",
    "E = h * c * 1e2 * 2 * B\n",
    "print('Delta E = {:.3e} J'.format(E))"
   ]
  },
  {
   "cell_type": "code",
   "execution_count": null,
   "metadata": {},
   "outputs": [],
   "source": [
    "temps = [298, 3]\n",
    "for i in temps:\n",
    "    ratio = g(1) / g(0) * np.exp((-1 * E) / (Boltzmann * i))\n",
    "    print('At T = {:d} K, the ratio of J=1 to J=0 is {:.2e}'.format(i, ratio))"
   ]
  },
  {
   "cell_type": "markdown",
   "metadata": {},
   "source": [
    "There are far fewer molecules in the upper rotational state at very low temperature, which makes physical sense. \n",
    "\n",
    "## Question 5\n",
    "\n",
    "*The force constant of the bond in $^{12}\\text{C}^{16}\\text{O}$ is 1902 Nm$^{-1}$. Calculate the wavenumber of the transition corresponding to vibration of this bond.*"
   ]
  },
  {
   "cell_type": "code",
   "execution_count": null,
   "metadata": {},
   "outputs": [],
   "source": [
    "k = 1902\n",
    "\n",
    "mC = 12 * 1e-3 / Avogadro\n",
    "mO = 16 * 1e-3 / Avogadro\n",
    "\n",
    "mu = (mC * mO) / (mC + mO)\n",
    "\n",
    "nu = 1 / (2 * pi) * np.sqrt(k / mu)\n",
    "print('nu = {:.3e} s-1 = {:.2f} THz'.format(nu, nu * 1e-12))"
   ]
  },
  {
   "cell_type": "code",
   "execution_count": null,
   "metadata": {},
   "outputs": [],
   "source": [
    "wavenumber = nu / (c * 1e2)\n",
    "print('nu_bar = {:.0f} cm-1'.format(wavenumber))"
   ]
  },
  {
   "cell_type": "markdown",
   "metadata": {},
   "source": [
    "## Question 6 \n",
    "\n",
    "*Infrared spectra show absorption due to C-H bond stretching at 3.38 $\\mu$m for methyl and at 3.1 $\\mu$m for an alkyne group. *\n",
    "\n",
    "*(i) Calculate the wavenumber values from these to absorptions*\n",
    "\n",
    "*(ii) Which C-H bond is stiffer (i.e. has the largest force constant $k$), assuming that the vibrating atoms have the same effective mass.*\n",
    "\n",
    "#### (i)"
   ]
  },
  {
   "cell_type": "code",
   "execution_count": null,
   "metadata": {},
   "outputs": [],
   "source": [
    "absorptions = [3.38e-6, 3.1e-6]\n",
    "\n",
    "for i in absorptions:\n",
    "    wavenumber = 1 / i * 1e-2\n",
    "    print('Absorption = {:.3e} m; nu_bar = {:.2f} cm-1'.format(i, wavenumber))"
   ]
  },
  {
   "cell_type": "markdown",
   "metadata": {},
   "source": [
    "#### (ii)\n",
    "\n",
    "This related observations of infrared spectra to conclusions about relative properties of bonds.\n",
    "\n",
    "The alkyne group (at higher wavenumber) has a stiffer C-H bond because a large force constant $k$ results in a higher frequency absorption. This can be related to the strength of the bond (e.g. double bonds have higher frequencies), and in this case indicates that the C-H bond adjacent to the C-C triple bond is slight stronger than the one adjacent to a C-C single bond. "
   ]
  },
  {
   "cell_type": "code",
   "execution_count": null,
   "metadata": {
    "collapsed": true
   },
   "outputs": [],
   "source": []
  }
 ],
 "metadata": {
  "kernelspec": {
   "display_name": "Python 3 (ipykernel)",
   "language": "python",
   "name": "python3"
  },
  "language_info": {
   "codemirror_mode": {
    "name": "ipython",
    "version": 3
   },
   "file_extension": ".py",
   "mimetype": "text/x-python",
   "name": "python",
   "nbconvert_exporter": "python",
   "pygments_lexer": "ipython3",
   "version": "3.7.12"
  }
 },
 "nbformat": 4,
 "nbformat_minor": 2
}
