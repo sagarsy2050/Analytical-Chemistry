{
 "cells": [
  {
   "cell_type": "code",
   "execution_count": 1,
   "metadata": {
    "collapsed": true
   },
   "outputs": [],
   "source": [
    "%matplotlib inline\n",
    "import numpy as np\n",
    "import matplotlib.pyplot as plt\n",
    "from scipy.stats import linregress"
   ]
  },
  {
   "cell_type": "markdown",
   "metadata": {},
   "source": [
    "### Question 1\n",
    "\n",
    "The data for the radioactive decay of protactinium, Pa (a beta emitter) can be \"collected\" by viewing this YouTube video: https://www.youtube.com/watch?v=214cwT4v3D8. Please be sure to record all data points and note the information pertaining to background, as well as count and wait periods, at the start of the video.\n",
    "\n",
    "- Plot appropriate graphs to:\n",
    "    - Show the decay of Pa\n",
    "    - Determine the rate constant\n",
    "    - Demonstrate that your rate constant is correct ('fit' the data)"
   ]
  },
  {
   "cell_type": "code",
   "execution_count": 2,
   "metadata": {
    "collapsed": true
   },
   "outputs": [],
   "source": [
    "# First task is to read in the data as a pair of arrays\n",
    "time = np.array([0., 12.5, 25., 37.5, 50., 62.5, 75., 87.5, 100., \n",
    "        112.5, 125., 137.5, 150., 162.5, 175., 187.5, \n",
    "        200, 212.5, 225., 237.5, 250., 262.5, 275.])\n",
    "counts = np.array([292, 253, 219, 183, 184, 154, 144, 109, 112, \n",
    "          107, 70, 69, 48, 54, 43, 53, 46, 27, 22, \n",
    "          22, 24, 22, 17])\n",
    "\n",
    "# And the background as a float\n",
    "background = 6."
   ]
  },
  {
   "cell_type": "code",
   "execution_count": 3,
   "metadata": {
    "collapsed": true
   },
   "outputs": [],
   "source": [
    "# The counts can then be corrected\n",
    "counts = counts - background"
   ]
  },
  {
   "cell_type": "code",
   "execution_count": 4,
   "metadata": {},
   "outputs": [
    {
     "data": {
      "image/png": "[encoded data removed]",
      "text/plain": [
       "<matplotlib.figure.Figure at 0x7f8b96350438>"
      ]
     },
     "metadata": {},
     "output_type": "display_data"
    }
   ],
   "source": [
    "# And the raw data plotted\n",
    "plt.plot(time, counts, 'o')\n",
    "plt.xlabel('Time/s')\n",
    "plt.ylabel('[A]/Counts')\n",
    "plt.show()"
   ]
  },
  {
   "cell_type": "markdown",
   "metadata": {},
   "source": [
    "The exponential decay in this data should be clear."
   ]
  },
  {
   "cell_type": "code",
   "execution_count": 5,
   "metadata": {},
   "outputs": [
    {
     "data": {
      "image/png": "[encoded data removed]",
      "text/plain": [
       "<matplotlib.figure.Figure at 0x7f8b96350080>"
      ]
     },
     "metadata": {},
     "output_type": "display_data"
    }
   ],
   "source": [
    "# Plot with a log y-axis\n",
    "plt.plot(time, np.log(counts), 'o')\n",
    "plt.xlabel('Time/s')\n",
    "plt.ylabel('ln[A]')\n",
    "plt.show()"
   ]
  },
  {
   "cell_type": "code",
   "execution_count": 6,
   "metadata": {},
   "outputs": [
    {
     "name": "stdout",
     "output_type": "stream",
     "text": [
      "LinregressResult(slope=-0.011672027300423831, intercept=5.7107189362724249, rvalue=-0.9872120306252361, pvalue=3.1170337065838762e-18, stderr=0.00041129090479511706)\n"
     ]
    }
   ],
   "source": [
    "# Use linregress to get the straightline \n",
    "data = linregress(time, np.log(counts))\n",
    "print(data)"
   ]
  },
  {
   "cell_type": "markdown",
   "metadata": {},
   "source": [
    "The rate constant is the negative of the slope, while the initial count is the exponential of the intercept."
   ]
  },
  {
   "cell_type": "code",
   "execution_count": 7,
   "metadata": {},
   "outputs": [
    {
     "name": "stdout",
     "output_type": "stream",
     "text": [
      "The rate constant is 0.0117 s^-1\n",
      "The initial counts is 302.0882\n"
     ]
    }
   ],
   "source": [
    "k = -data.slope\n",
    "print('The rate constant is {:.4f} s^-1'.format(k))\n",
    "A0 = np.exp(data.intercept)\n",
    "print('The initial counts is {:.4f}'.format(A0))"
   ]
  },
  {
   "cell_type": "markdown",
   "metadata": {},
   "source": [
    "It is then possible to check the agreement using the integrated rate law\n",
    "\n",
    "$$ [\\text{A}] = [\\text{A}]_0\\exp{(-kt)} $$"
   ]
  },
  {
   "cell_type": "code",
   "execution_count": 8,
   "metadata": {},
   "outputs": [
    {
     "data": {
      "image/png": "[encoded data removed]",
      "text/plain": [
       "<matplotlib.figure.Figure at 0x7f8b8e4103c8>"
      ]
     },
     "metadata": {},
     "output_type": "display_data"
    }
   ],
   "source": [
    "def check(t, k, A0):\n",
    "    return A0 * np.exp(-k * t)\n",
    "\n",
    "plt.plot(time, counts, 'o')\n",
    "plt.plot(time, check(time, k, A0))\n",
    "plt.xlabel('Time/s')\n",
    "plt.ylabel('Counts')\n",
    "plt.show()"
   ]
  },
  {
   "cell_type": "markdown",
   "metadata": {},
   "source": [
    "- Determine the half-life for the radioactive decay of Pa\n",
    "\n",
    "The half life can be found, \n",
    "\n",
    "$$ t_{1/2} = \\dfrac{\\ln{2}}{k} $$"
   ]
  },
  {
   "cell_type": "code",
   "execution_count": 9,
   "metadata": {},
   "outputs": [
    {
     "name": "stdout",
     "output_type": "stream",
     "text": [
      "The half life of the decay is 59.3853 s\n"
     ]
    }
   ],
   "source": [
    "t12 = np.log(2) / k\n",
    "print('The half life of the decay is {:.4f} s'.format(t12))"
   ]
  },
  {
   "cell_type": "markdown",
   "metadata": {},
   "source": [
    "### Question 2\n",
    "\n",
    "The acid catalysed bromination of propanone was investigated using the initial rate method at 298 K. The initial rate of reaction was determined for a range of initial concentration of reactants as shown in the table below. \n",
    "\n",
    "$$ \\text{CH}_3\\text{COCH}_3 \\text{ (aq)} + \\text{Br}_2\\text{ (aq)} + \\text{H}^+\\text{ (aq)} \\rightarrow \\text{CH}_3\\text{COCH}_2\\text{Br} \\text{ (aq)} + \\text{Br}^-\\text{ (aq)} + 2\\text{H}^+\\text{ (aq)}$$\n",
    "\n",
    "| Exp # | [$\\text{CH}_3\\text{COCH}_3$] | [$\\text{Br}_2$] | [$\\text{H+}_2$] | Initial rate/$10^{-5}$ moldm$^{-3}$s$^{-1}$ |\n",
    "|------|------|------|------|------|\n",
    "| 1 | 0.30 | 0.05 | 0.05 | 5.60 | \n",
    "| 2 | 0.30 | 0.10 | 0.05 | 5.60 | \n",
    "| 3 | 0.30 | 0.05 | 0.10 | 11.1 |\n",
    "| 4 | 0.40 | 0.05 | 0.20 | 30.5 |\n",
    "| 5 | 0.40 | 0.05 | 0.05 | 7.55 |\n",
    "\n",
    "- Determine the order of the reaction with respect to each of the three substances listed in the table. Please explain your reasoning in each case. \n",
    "\n",
    "Compare Exp #1 and #5 to determine rate with respect to $\\text{CH}_3\\text{COCH}_3$."
   ]
  },
  {
   "cell_type": "code",
   "execution_count": null,
   "metadata": {
    "collapsed": true
   },
   "outputs": [],
   "source": [
    "conc1 = 0.3\n",
    "conc5 = 0.4 \n",
    "rate1 = 5.6\n",
    "rate5 = 7.55\n",
    "\n",
    "(rate5 / rate1) / (conc5 / conc1)"
   ]
  },
  {
   "cell_type": "markdown",
   "metadata": {},
   "source": [
    "1st order.\n",
    "\n",
    "Compare Exp #1 and #2 to determine rate with respect to $\\text{Br}_2$."
   ]
  },
  {
   "cell_type": "code",
   "execution_count": null,
   "metadata": {
    "collapsed": true
   },
   "outputs": [],
   "source": [
    "conc1 = 0.05\n",
    "conc2 = 0.10\n",
    "rate1 = 5.6\n",
    "rate2 = 5.6\n",
    "\n",
    "(rate2 / rate1) / (conc2 / conc1)"
   ]
  },
  {
   "cell_type": "markdown",
   "metadata": {},
   "source": [
    "No change with increasing concentration, therefore 0th order.\n",
    "\n",
    "Compare Exp #1 and #3 to determine rate with respect to $\\text{H}^+$."
   ]
  },
  {
   "cell_type": "code",
   "execution_count": null,
   "metadata": {
    "collapsed": true
   },
   "outputs": [],
   "source": [
    "conc1 = 0.05\n",
    "conc3 = 0.10\n",
    "rate1 = 5.6\n",
    "rate3 = 11.1\n",
    "\n",
    "(rate3 / rate1) / (conc3 / conc1)"
   ]
  },
  {
   "cell_type": "markdown",
   "metadata": {},
   "source": [
    "1st order.\n",
    "\n",
    "- Explain how one would measure initial rates. Include in your answer any constraints that would be likely to occur, or approximations that would be made. \n",
    "\n",
    "At low extent of reaction, e.g. $<10$ % reactant consumption, the tangent to the decay can be approximated by $\\frac{\\Delta [\\text{A}]}{\\Delta t}$, so may be determined from the gradient of this tangent. Thus the constraint is that this only holds at low reactant consumption and the approximation is that the tangent to the curve at $t_0$ is $\\frac{\\Delta [\\text{A}]}{\\Delta t}$.\n",
    "\n",
    "### Question 3\n",
    "\n",
    "The following data were recorded for the ring opening polymerisation fo lactide (LA) to form polylactide (PLA), a sustainable alternative to petrochemically derived polymers. The concentration of catalyst was 0.00167 dm$^{-3}$. \n",
    "\n",
    "| Time/min | LA concentration/moldm$^{-3}$ |\n",
    "|------|------|\n",
    "| 11 | 0.45 |\n",
    "| 19 | 0.38 | \n",
    "| 27 | 0.30 |\n",
    "| 35 | 0.24 |\n",
    "\n",
    "- Derive the integrated first order rate equation. \n",
    "\n",
    "$$ -\\frac{d[\\text{A}]}{dt} = k'[\\text{A}] $$\n",
    "\n",
    "$$ -\\frac{1}{[\\text{A}]}d[\\text{A}] = kdt $$\n",
    "\n",
    "$$ -\\int_{[\\text{A}]_0}^{[\\text{A}]_t}\\frac{1}{[\\text{A}]}d[\\text{A}] =  \\int_{0}^{t}kdt $$\n",
    "\n",
    "$$ -(\\ln{[\\text{A}]_t} - \\ln{[\\text{A}]_0}) = kt $$\n",
    "\n",
    "$$ \\ln{[\\text{A}]_0} - \\ln{[\\text{A}]_t} = kt $$\n",
    "\n",
    "$$ \\ln{\\frac{[\\text{A}]_0}{[\\text{A}]_t}} = kt $$"
   ]
  },
  {
   "cell_type": "markdown",
   "metadata": {},
   "source": [
    "- Using suitable graphical methods, determine the rate constant for the polymerisation of LA to form PLA."
   ]
  },
  {
   "cell_type": "code",
   "execution_count": 10,
   "metadata": {},
   "outputs": [
    {
     "data": {
      "image/png": "[encoded data removed]",
      "text/plain": [
       "<matplotlib.figure.Figure at 0x7f6d03ea88d0>"
      ]
     },
     "metadata": {},
     "output_type": "display_data"
    }
   ],
   "source": [
    "time = np.array([11., 19., 27., 35.])\n",
    "time = time\n",
    "LA = np.array([0.45, 0.38, 0.30, 0.24])\n",
    "\n",
    "data = linregress(time, np.log(LA))\n",
    "\n",
    "plt.plot(time, np.log(LA), 'o')\n",
    "plt.plot(time, data.slope * time + data.intercept)\n",
    "plt.xlabel('Time/s')\n",
    "plt.ylabel('ln[LA]')\n",
    "plt.show()"
   ]
  },
  {
   "cell_type": "code",
   "execution_count": 11,
   "metadata": {},
   "outputs": [
    {
     "name": "stdout",
     "output_type": "stream",
     "text": [
      "The rate constant is 2.6528e-02 s-1\n"
     ]
    }
   ],
   "source": [
    "k = -data.slope\n",
    "print('The rate constant is {:.4e} s-1'.format(k))"
   ]
  },
  {
   "cell_type": "markdown",
   "metadata": {},
   "source": [
    "- What we have actually done above is apply pseudo first order kinetics. In reality the overall rate law should be as shown below. How would you determine $x$, the order of reaction with respect to catalyst?"
   ]
  },
  {
   "cell_type": "markdown",
   "metadata": {},
   "source": [
    "$$ -\\frac{d[\\text{LA}]}{dt} = k[\\text{cat}]^x[\\text{LA}]^1 $$\n",
    "\n",
    "$$ k' = k[\\text{cat}]^x $$\n",
    "\n",
    "$$ \\ln{k'} = \\ln{k} + x \\ln{[\\text{cat}]} $$\n",
    "\n",
    "Thus a plot of $\\ln{k'}$ vs $\\ln{[\\text{cat}]}$ will give a straight line with a gradient of $x$. so the experiment would be changing the concentration of catalyst and determining the value of $k'$. \n",
    "\n",
    "### Question 4\n",
    "\n",
    "the Mary Rose (the flag ship of King Henry VIII) sank in 1545 AD and was raised from the Solent in 1982 AD. A piece of the hull was immediately carbon dated and the ratio of $^{14}$C to $^{12}$C in the ship's hull found to be $0.935 \\times 10^{-12}$. If the half-life of radioactive $^{14}$C is 5568 years and the ratio of $^{14}$C to $^{12}$C in living biomass is $1.00 \\times 10^{-12}$, calculated the age of the piece of wood and thus when the tree it came from was felled. \n",
    "\n",
    "$$ k = \\frac{\\ln{2}}{t_{1/2}} $$"
   ]
  },
  {
   "cell_type": "code",
   "execution_count": 10,
   "metadata": {},
   "outputs": [
    {
     "name": "stdout",
     "output_type": "stream",
     "text": [
      "k = 1.24e-04 years^-1\n"
     ]
    }
   ],
   "source": [
    "k = np.log(2) / 5568\n",
    "print('k = {:.2e} years^-1'.format(k))"
   ]
  },
  {
   "cell_type": "markdown",
   "metadata": {},
   "source": [
    "$$ \\ln\\frac{[\\text{A}]_0}{[\\text{A}]_t} = kt $$\n",
    "\n",
    "$$ t = \\frac{\\ln\\frac{[\\text{A}]_0}{[\\text{A}]_t}}{k} $$"
   ]
  },
  {
   "cell_type": "code",
   "execution_count": 11,
   "metadata": {},
   "outputs": [
    {
     "name": "stdout",
     "output_type": "stream",
     "text": [
      "t = 540 years\n"
     ]
    }
   ],
   "source": [
    "A0 = 1e-12\n",
    "At = 0.935e-12\n",
    "t = (np.log(A0 / At)) / k\n",
    "print('t = {:.0f} years'.format(t))"
   ]
  },
  {
   "cell_type": "code",
   "execution_count": 12,
   "metadata": {},
   "outputs": [
    {
     "name": "stdout",
     "output_type": "stream",
     "text": [
      "The tree was felled 1442 AD\n"
     ]
    }
   ],
   "source": [
    "raised = 1982\n",
    "print('The tree was felled {:.0f} AD'.format(raised - t))"
   ]
  },
  {
   "cell_type": "code",
   "execution_count": null,
   "metadata": {},
   "outputs": [],
   "source": []
  },
  {
   "cell_type": "code",
   "execution_count": null,
   "metadata": {
    "collapsed": true
   },
   "outputs": [],
   "source": []
  }
 ],
 "metadata": {
  "kernelspec": {
   "display_name": "Python 3 (ipykernel)",
   "language": "python",
   "name": "python3"
  },
  "language_info": {
   "codemirror_mode": {
    "name": "ipython",
    "version": 3
   },
   "file_extension": ".py",
   "mimetype": "text/x-python",
   "name": "python",
   "nbconvert_exporter": "python",
   "pygments_lexer": "ipython3",
   "version": "3.7.12"
  }
 },
 "nbformat": 4,
 "nbformat_minor": 2
}
