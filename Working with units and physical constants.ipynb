{
 "cells": [
  {
   "cell_type": "markdown",
   "metadata": {},
   "source": [
    "# Working with physical constants and units, with `scipy.constants`\n",
    "\n",
    "A lot of the expressions that describe chemical phenomena involve physical constants, such as the speed of light, $c$, Avogadro's constant, $N_\\mathrm{A}$, Planck's constant, $h$, and the Boltzmann constant, $k$. When working with algebraic expressions, it is also important to keep track of the relevant units. Different experiments may conventionally report data in non-S.I. units, and these units must be converted for comparing data or calculating chemical properties.\n",
    "\n",
    "While manipulating units manually (for example, when working through a problem by hand) is an important skill, if you are solving numerical problems using code you ideally want to avoid typing in unit conversions and values for constants. Any numbers that are typed in, are possible places where you could mistype. Mistakes in your code can hopefully be spotted when they produce errors, or from testing that your code produces a known result. Mistakes in numbers typed in are harder to spot, and can propogate through to your results.\n",
    "\n",
    "To reduce the chance of introducing errors, there are two easy techniques you can follow:\n",
    "\n",
    "1. Define your constants and unit conversions once by assigning them to variables (conventionally at the top of your code), rather than retyping them each time.\n",
    "2. If possible, read constants and unit conversions automatically from databases.\n",
    "\n",
    "## Example - calculating the circumference and area of a circle\n",
    "\n",
    "\n",
    "\n",
    "**Q**. The equations for the circumference and area of a circle are:\n",
    "\\begin{equation}\n",
    "c =2\\pi r,\n",
    "\\end{equation}\n",
    "\\begin{equation}\n",
    "A=\\pi r^2.\n",
    "\\end{equation}\n",
    "Calculate the circumference and area of a circle with radius 5.0 cm. Give your results to 3 decimal places."
   ]
  },
  {
   "cell_type": "markdown",
   "metadata": {},
   "source": [
    "### Approach 1 — numbers are typed in-place"
   ]
  },
  {
   "cell_type": "code",
   "execution_count": 1,
   "metadata": {},
   "outputs": [
    {
     "name": "stdout",
     "output_type": "stream",
     "text": [
      "circumference = 31.415 cm\n",
      "area = 78.538 cm^2\n"
     ]
    }
   ],
   "source": [
    "circumference = 2.0 * 3.1415 * 5.0\n",
    "area = 3.1415 * 5.0**2\n",
    "\n",
    "print( \"circumference = {:.3f} cm\".format( circumference ) )\n",
    "print( \"area = {:.3f} cm^2\".format( area ) )"
   ]
  },
  {
   "cell_type": "markdown",
   "metadata": {},
   "source": [
    "### Approach 2 — using variables"
   ]
  },
  {
   "cell_type": "code",
   "execution_count": 2,
   "metadata": {},
   "outputs": [
    {
     "name": "stdout",
     "output_type": "stream",
     "text": [
      "circumference = 31.415 cm\n",
      "area = 78.538 cm^2\n"
     ]
    }
   ],
   "source": [
    "r = 5.0 # radius in cm.\n",
    "pi = 3.1415 # pi to 4 d.p.\n",
    "\n",
    "circumference = 2.0 * pi * r\n",
    "area = pi * r**2\n",
    "\n",
    "print( \"circumference = {:.3f} cm\".format( circumference ) )\n",
    "print( \"area = {:.3f} cm^2\".format( area ) )"
   ]
  },
  {
   "cell_type": "markdown",
   "metadata": {},
   "source": [
    "This approach has two advantages over the first. The variables `r` and `pi` are clearly defined at the top of the code, and are then referred to by their variable names in the actual calculations. We can be sure that the same values of `r` and `pi` are used in both calculations, and it is a lot clearer where these numbers come from. By dividing up the code like this, it is also easier to understand. The actual calculations now look like the expressions in the question, and it is clearer to someone reading the code what is happening."
   ]
  },
  {
   "cell_type": "markdown",
   "metadata": {},
   "source": [
    "### Approach 3 — importing constants\n",
    "\n",
    "Instead of typing in the value of $\\pi$, you can `import` it from the `math` module. "
   ]
  },
  {
   "cell_type": "code",
   "execution_count": 3,
   "metadata": {},
   "outputs": [
    {
     "name": "stdout",
     "output_type": "stream",
     "text": [
      "pi = 3.141592653589793\n"
     ]
    }
   ],
   "source": [
    "from math import pi\n",
    "print( 'pi = {}'.format(pi) )"
   ]
  },
  {
   "cell_type": "markdown",
   "metadata": {},
   "source": [
    "This means you never have to worry about mistyping the numerical value. You also get a more accurate value. Notice that in the previous examples, the last decimal place was incorrectly rounded to give `3.1415` and not `3.1416`, and this rounding error propagates through to the calculated answers."
   ]
  },
  {
   "cell_type": "code",
   "execution_count": 4,
   "metadata": {},
   "outputs": [
    {
     "name": "stdout",
     "output_type": "stream",
     "text": [
      "circumference = 31.416 cm\n",
      "area = 78.540 cm^2\n"
     ]
    }
   ],
   "source": [
    "from math import pi\n",
    "\n",
    "# question inputs\n",
    "r = 5.0 # radius in cm\n",
    "\n",
    "circumference = 2.0 * pi * r\n",
    "area = pi * r**2\n",
    "\n",
    "print( \"circumference = {:.3f} cm\".format( circumference ) )\n",
    "print( \"area = {:.3f} cm^2\".format( area ) )"
   ]
  },
  {
   "cell_type": "markdown",
   "metadata": {},
   "source": [
    "## Working with `scipy.constants`\n",
    "\n",
    "The `math` module contains various mathematical constants, such as $\\pi$ and $\\mathrm{e}$ (the natural logarithm). For **physical constants** you can use the `scipy.constants` module: https://docs.scipy.org/doc/scipy/reference/constants.html\n",
    "\n",
    "Common physical constants can be imported directly, e.g."
   ]
  },
  {
   "cell_type": "code",
   "execution_count": 5,
   "metadata": {},
   "outputs": [
    {
     "name": "stdout",
     "output_type": "stream",
     "text": [
      "c = 299792458.0 m s^-1\n",
      "h = 6.62607004e-34 J s\n",
      "k = 1.38064852e-23 J K^-1\n"
     ]
    }
   ],
   "source": [
    "from scipy.constants import c # speed of light\n",
    "from scipy.constants import h # Planck's constant\n",
    "from scipy.constants import k # Boltzmann constant\n",
    "\n",
    "print( 'c = {} m s^-1'.format( c ) )\n",
    "print( 'h = {} J s'.format( h ) )\n",
    "print( 'k = {} J K^-1'.format( k ) )"
   ]
  },
  {
   "cell_type": "markdown",
   "metadata": {},
   "source": [
    "`scipy.constants` also contains a `physical_constants` database (as a Python dictionary) that contains an even larger number of constants, and also gives their units."
   ]
  },
  {
   "cell_type": "code",
   "execution_count": 6,
   "metadata": {},
   "outputs": [
    {
     "name": "stdout",
     "output_type": "stream",
     "text": [
      "(299792458.0, 'm s^-1', 0.0)\n",
      "(6.62607004e-34, 'J s', 8.1e-42)\n",
      "(1.38064852e-23, 'J K^-1', 7.9e-30)\n"
     ]
    }
   ],
   "source": [
    "from scipy.constants import physical_constants\n",
    "\n",
    "print( physical_constants['speed of light in vacuum'] )\n",
    "print( physical_constants['Planck constant'] )\n",
    "print( physical_constants['Boltzmann constant'] )"
   ]
  },
  {
   "cell_type": "markdown",
   "metadata": {},
   "source": [
    "Each entry in the dictionary returns three components: the value, the units (as a string), and the experimental uncertainty."
   ]
  },
  {
   "cell_type": "markdown",
   "metadata": {},
   "source": [
    "## In practice — contants and unit conversions in tutorial work\n",
    "\n",
    "The following are example tutorial questions (that will probably be familiar) that involve working with different units, that illustrate using the approaches described above."
   ]
  },
  {
   "cell_type": "markdown",
   "metadata": {},
   "source": [
    "### 1.\n",
    "\n",
    "**Q** The pressure at the top of a mountain is one-third of an atmosphere. Calculate the pressure in S.I. units and in bar."
   ]
  },
  {
   "cell_type": "code",
   "execution_count": 7,
   "metadata": {},
   "outputs": [
    {
     "name": "stdout",
     "output_type": "stream",
     "text": [
      "standard atmosphere in Pa: 101325.0\n",
      "one bar in Pa: 100000.0\n"
     ]
    }
   ],
   "source": [
    "from scipy.constants import atm, bar # 1 atm and 1 bar in SI units (Pascals).\n",
    "\n",
    "print( \"standard atmosphere in Pa: {}\".format( atm ) )\n",
    "print( \"one bar in Pa: {}\".format( bar ) )"
   ]
  },
  {
   "cell_type": "code",
   "execution_count": 8,
   "metadata": {},
   "outputs": [
    {
     "name": "stdout",
     "output_type": "stream",
     "text": [
      "pressure in S.I. units (Pa) = 33775.0\n",
      "pressure in bar = 0.33775\n"
     ]
    }
   ],
   "source": [
    "pressure_in_atm = 1/3\n",
    "pressure_in_Pa = pressure_in_atm * atm\n",
    "pressure_in_bar = pressure_in_Pa / bar\n",
    "\n",
    "print( \"pressure in S.I. units (Pa) = {}\".format( pressure_in_Pa ) )\n",
    "print( \"pressure in bar = {}\".format( pressure_in_bar ) )"
   ]
  },
  {
   "cell_type": "markdown",
   "metadata": {},
   "source": [
    "### 2.\n",
    "\n",
    "**Q** A sample of Neon of mass 255 mg occupies 3.0 L at 122 K. What pressure does it exert if it acts ideally?\n",
    "\n",
    "**A**. Answering this question relies on using the ideal gas equation:\n",
    "\n",
    "\\begin{equation}\n",
    "pV = nRT\n",
    "\\end{equation}\n",
    "\n",
    "which can be rearranged to give\n",
    "\\begin{equation}\n",
    "p = \\frac{nRT}{V}\n",
    "\\end{equation}\n",
    "\n",
    "The question gives us the volume and temperature. The number of moles of gas can be calculated from the total mass, and from knowing what the sample is made of.\n",
    "\n",
    "*NOTE* The [`mendeleev`](https://mendeleev.readthedocs.io/en/stable/) module is not a standard part of Anaconda, and is not necessarily available to you without instalation. If the `import mendeleev` line gives an error, you can comment this out, and manually store the mass of Ne in a variable."
   ]
  },
  {
   "cell_type": "code",
   "execution_count": 9,
   "metadata": {},
   "outputs": [
    {
     "name": "stdout",
     "output_type": "stream",
     "text": [
      "pressure = 4272.657577962012\n"
     ]
    }
   ],
   "source": [
    "from scipy.constants import R # molar gas constant\n",
    "\n",
    "import mendeleev\n",
    "molar_mass_of_Ne = mendeleev.element('Ne').mass\n",
    "\n",
    "# If these lines give an error, you probably do not have the mendeleev module installed.\n",
    "# If this is the case, comment out the two lines above, and uncomment the line below\n",
    "\n",
    "# molar_mass_of_Ne = 20.1797\n",
    "\n",
    "total_mass = 255e-3 # mass in g\n",
    "volume = 3.0e-3 # volume in m^3\n",
    "temperature = 122.0 # temperature in K\n",
    "\n",
    "n_moles_of_Ne = total_mass / molar_mass_of_Ne\n",
    "\n",
    "pressure = n_moles_of_Ne * R * temperature / volume\n",
    "\n",
    "print( 'pressure =', pressure )"
   ]
  },
  {
   "cell_type": "markdown",
   "metadata": {},
   "source": [
    "### 3.\n",
    "\n",
    "**Q** The atomic radius of a helium atom has been reported as 140 pm. Convert this to Angstroms and into SI units. What, in SI units, is the volume occupied by the atom?"
   ]
  },
  {
   "cell_type": "markdown",
   "metadata": {},
   "source": [
    "**A** `scipy.constants` also contains conversion factors for SI prefixes (such as &ldquo;pico&rdquo;), which can be used to give clearer code"
   ]
  },
  {
   "cell_type": "code",
   "execution_count": 10,
   "metadata": {},
   "outputs": [
    {
     "name": "stdout",
     "output_type": "stream",
     "text": [
      "atomic radius in Angstroms: 1.40e+12\n",
      "atomic radius in SI units (m): 1.40e-10\n"
     ]
    }
   ],
   "source": [
    "from scipy.constants import pico, angstrom\n",
    "\n",
    "r = 140 # atomic radius in pm\n",
    "atomic_radius_in_m = 140 * pico # SI units\n",
    "atomic_radius_in_angstroms = r / angstrom # Angstroms\n",
    "\n",
    "print( \"atomic radius in Angstroms: {:.2e}\".format( atomic_radius_in_angstroms ) )\n",
    "print( \"atomic radius in SI units (m): {:.2e}\".format( atomic_radius_in_m ) )"
   ]
  },
  {
   "cell_type": "markdown",
   "metadata": {},
   "source": [
    "Approximate the atomic volume as a sphere with radius $r$.\n",
    "\n",
    "\\begin{equation}\n",
    "V_\\mathrm{sphere}(r) = \\frac{4}{3}\\pi r^3.\n",
    "\\end{equation}"
   ]
  },
  {
   "cell_type": "code",
   "execution_count": 11,
   "metadata": {},
   "outputs": [
    {
     "name": "stdout",
     "output_type": "stream",
     "text": [
      "volume = 1.15e-29 m^3\n"
     ]
    }
   ],
   "source": [
    "from math import pi\n",
    "\n",
    "volume = 4.0/3.0 * pi * atomic_radius_in_m**3 # calculate the volume in SI units (m^3)\n",
    "\n",
    "print( \"volume = {:.2e} m^3\".format( volume ) )"
   ]
  }
 ],
 "metadata": {
  "kernelspec": {
   "display_name": "Python 3 (ipykernel)",
   "language": "python",
   "name": "python3"
  },
  "language_info": {
   "codemirror_mode": {
    "name": "ipython",
    "version": 3
   },
   "file_extension": ".py",
   "mimetype": "text/x-python",
   "name": "python",
   "nbconvert_exporter": "python",
   "pygments_lexer": "ipython3",
   "version": "3.7.12"
  }
 },
 "nbformat": 4,
 "nbformat_minor": 2
}
