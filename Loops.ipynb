{
 "cells": [
  {
   "cell_type": "markdown",
   "metadata": {},
   "source": [
    "# Loops\n",
    "\n",
    "This notebook follows on in many ways from the [functions](https://hub.mybinder.org/user/bjmorgan-python_in_chemistry-ty1bfjno/notebooks/General/Functions.ipynb) notebook. The aim here is to show the utility of **loops** in Python programming. I will again endevour to use examples from *chemistry* related problems, but occasionally examples from physics or mathematics will come through. \n",
    "\n",
    "As is the case with many aspects of programming the propose of a loop is to allow the programmer to write less code. This leads to the idiom that *computers are really good at doing the same thing over and over*, much better than humans. \n",
    "\n",
    "A loop really is just that, a way to tell the computer to perform a task multiple times over. \n",
    "\n",
    "The Pythonic way to have a loop is:\n",
    "\n",
    "<code>for i in array:\n",
    "    operation\n",
    "</code>\n",
    "\n",
    "There are a few things here that need described. \n",
    "- <code>for</code> This tells the computer that you are wanting something to be looped through\n",
    "- <code>i</code> This is the iterator, it will become more clear the utility of this in later examples\n",
    "- <code>array</code> This is some array of objects that is to be itereated through. \n",
    "For each iteration the <code>operation</code> is performed. \n",
    "\n",
    "Lets have a look at some examples. "
   ]
  },
  {
   "cell_type": "code",
   "execution_count": null,
   "metadata": {
    "collapsed": true
   },
   "outputs": [],
   "source": [
    "for i in range(0, 10):\n",
    "    print('Hello World!')"
   ]
  },
  {
   "cell_type": "markdown",
   "metadata": {},
   "source": [
    "This example says <code>for i</code> in the range 0 to 10 (including zero but not ten) print the string <code>Hello World!</code>. \n",
    "\n",
    "The result is that the string is printed 10 times, once for each of the numbers 0, 1, 2, 3, 4, 5, 6, 7, 8, 9. Essentially, <code>i</code> is counting from 0 to 9 and printing the string each time. \n",
    "\n",
    "This is more clear if we include <code>i</code> in the string."
   ]
  },
  {
   "cell_type": "code",
   "execution_count": null,
   "metadata": {
    "collapsed": true
   },
   "outputs": [],
   "source": [
    "for i in range(0, 10):\n",
    "    print('Hello World {}!'.format(i))"
   ]
  },
  {
   "cell_type": "markdown",
   "metadata": {},
   "source": [
    "Of course, the array doesn't just have to be a series of continuous integers. We can have really any type of array. "
   ]
  },
  {
   "cell_type": "code",
   "execution_count": null,
   "metadata": {
    "collapsed": true
   },
   "outputs": [],
   "source": [
    "array1 = [2.4, 6.7, 3.0, 8.2, 2.7, 7.4]\n",
    "for i in array1:\n",
    "    print(i)"
   ]
  },
  {
   "cell_type": "markdown",
   "metadata": {},
   "source": [
    "And the iterator need not always be called <code>i</code>. This is just a *convention* in programming."
   ]
  },
  {
   "cell_type": "code",
   "execution_count": null,
   "metadata": {
    "collapsed": true
   },
   "outputs": [],
   "source": [
    "array2 = ['dog', 'horse', 'bear', 'lion', 'camel']\n",
    "for animal in array2:\n",
    "    print(animal)"
   ]
  },
  {
   "cell_type": "markdown",
   "metadata": {
    "collapsed": true
   },
   "source": [
    "The examples above are all quite trival, lets have a look at something a bit more applicable. If you have looked at the [functions](https://hub.mybinder.org/user/bjmorgan-python_in_chemistry-ty1bfjno/notebooks/General/Functions.ipynb) notebook this example will be familiar. \n",
    "\n",
    "It is the calculation of the equilibrium constant for the following reaction at a series of temperatures, from 300 K to 350 K in 10 K increaments. \n",
    "\n",
    "$$\\text{CH}_4\\text{(g)} + 2\\text{O}_2\\text{(g)} \\rightarrow \\text{CO}_2\\text{(g)} + 2\\text{H}_2\\text{O(l)} $$\n",
    "\n",
    "| Component | $\\Delta_fH$/kJmol$^{-1}$ | $_rS$/kJmol$^{-1}$ |\n",
    "|------|------|\n",
    "| CH$_4$ | -74.8 | 0.1862 |\n",
    "| O$_2$ | 0 | 0.2050 |\n",
    "| CO$_2$ | -393.5 | 0.2136 |\n",
    "| H$_2$O | -285.8 | 0.0699 |\n",
    "\n",
    "The first thing we need it the function to calculate the equilibrium constant. "
   ]
  },
  {
   "cell_type": "code",
   "execution_count": null,
   "metadata": {
    "collapsed": true
   },
   "outputs": [],
   "source": [
    "import numpy as np\n",
    "from scipy.constants import R\n",
    "\n",
    "def equilibrium_constant(deltaH_products, deltaH_reactants, S_products, S_reactants, T):\n",
    "    deltarH = np.sum(deltaH_products) - np.sum(deltaH_reactants)\n",
    "    deltarS = np.sum(S_products) - np.sum(S_reactants)\n",
    "    Gibbs_free_energy = deltarH - T * deltarS\n",
    "    K = np.exp(-1 * Gibbs_free_energy/(R * 1e-3 *T))\n",
    "    return K"
   ]
  },
  {
   "cell_type": "markdown",
   "metadata": {},
   "source": [
    "And the range of temperatures."
   ]
  },
  {
   "cell_type": "code",
   "execution_count": null,
   "metadata": {
    "collapsed": true
   },
   "outputs": [],
   "source": [
    "temperatures = [300., 310., 320., 330., 340., 350.]"
   ]
  },
  {
   "cell_type": "markdown",
   "metadata": {},
   "source": [
    "Then we can make use of the loop as follows."
   ]
  },
  {
   "cell_type": "code",
   "execution_count": null,
   "metadata": {
    "collapsed": true
   },
   "outputs": [],
   "source": [
    "deltaH_products = [-393.5, -285.8 * 2]\n",
    "deltaH_reactants = [-74.8, 0 * 2]\n",
    "S_products = [0.2136, 0.0699, 0.0699]\n",
    "S_reactants = [0.1862, 0.2050, 0.2050]\n",
    "\n",
    "for T in temperatures:\n",
    "    K = equilibrium_constant(deltaH_products, deltaH_reactants, S_products, S_reactants, T)\n",
    "    print('K @ {:.0f} K = {:.3e}'.format(T, K))"
   ]
  },
  {
   "cell_type": "markdown",
   "metadata": {},
   "source": [
    "This procedure can be achieved for any range of temperatures, using the <code>np.arange</code> function. The below example also shows how the enumerate function can be utilised to count through the loops. "
   ]
  },
  {
   "cell_type": "code",
   "execution_count": null,
   "metadata": {
    "collapsed": true
   },
   "outputs": [],
   "source": [
    "temperatures = np.arange(300, 400, 20)\n",
    "\n",
    "deltaH_products = [-393.5, -285.8 * 2]\n",
    "deltaH_reactants = [-74.8, 0 * 2]\n",
    "S_products = [0.2136, 0.0699, 0.0699]\n",
    "S_reactants = [0.1862, 0.2050, 0.2050]\n",
    "\n",
    "for i, T in enumerate(temperatures):\n",
    "    K = equilibrium_constant(deltaH_products, deltaH_reactants, S_products, S_reactants, T)\n",
    "    print('{}. K @ {:.0f} K = {:.3e}'.format(i+1, T, K))"
   ]
  },
  {
   "cell_type": "code",
   "execution_count": null,
   "metadata": {
    "collapsed": true
   },
   "outputs": [],
   "source": []
  }
 ],
 "metadata": {
  "kernelspec": {
   "display_name": "Python 3 (ipykernel)",
   "language": "python",
   "name": "python3"
  },
  "language_info": {
   "codemirror_mode": {
    "name": "ipython",
    "version": 3
   },
   "file_extension": ".py",
   "mimetype": "text/x-python",
   "name": "python",
   "nbconvert_exporter": "python",
   "pygments_lexer": "ipython3",
   "version": "3.7.12"
  }
 },
 "nbformat": 4,
 "nbformat_minor": 2
}
