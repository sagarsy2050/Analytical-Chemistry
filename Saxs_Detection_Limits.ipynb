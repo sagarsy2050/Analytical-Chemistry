{
 "cells": [
  {
   "cell_type": "code",
   "execution_count": null,
   "metadata": {
    "collapsed": true
   },
   "outputs": [],
   "source": [
    "import numpy as np\n",
    "import pandas as pd"
   ]
  },
  {
   "cell_type": "code",
   "execution_count": null,
   "metadata": {
    "collapsed": true
   },
   "outputs": [],
   "source": [
    "data = {'analyte': ['Gold', 'Silver', 'Titania', 'Silica', 'Polystryene', \n",
    "                    'Gold', 'Silver', 'Titania', 'Silica', 'Polystryene', 'Air', 'Water'], \n",
    "        'dispersant': ['Water', 'Water', 'Water', 'Water', 'Water', \n",
    "                       'Air', 'Air', 'Air', 'Air', 'Air', 'Vacuum', 'Vacuum'],\n",
    "        'analyte_density': [19.32, 10.5, 4.23, 2.65, 1.04, \n",
    "                            19.32, 10.5, 4.23, 2.65, 1.04, 1.23e-3, 998e-3], \n",
    "        'dispersant_density': [998e-3, 998e-3, 998e-3, 998e-3, 998e-3, \n",
    "                               1.23e-3, 1.23e-3, 1.23e-3, 1.23e-3, 1.23e-3, 0., 0.],\n",
    "        'analyte_sld': [124.82e-6, 77.93e-6, 34.47e-6, 22.72e-6, 9.52e-6, \n",
    "                        124.82e-6, 77.93e-6, 34.47e-6, 22.72e-6, 9.52e-6,  10e-9, 9.45e-6], \n",
    "        'dispersant_sld': [9.45e-6, 9.45e-6, 9.45e-6, 9.45e-6, 9.45e-6, \n",
    "                           10e-9, 10e-9, 10e-9, 10e-9, 10e-9, 0., 0.]}"
   ]
  },
  {
   "cell_type": "code",
   "execution_count": null,
   "metadata": {},
   "outputs": [],
   "source": [
    "data_table = pd.DataFrame(data)"
   ]
  },
  {
   "cell_type": "code",
   "execution_count": null,
   "metadata": {},
   "outputs": [],
   "source": [
    "data_table"
   ]
  },
  {
   "cell_type": "code",
   "execution_count": null,
   "metadata": {},
   "outputs": [],
   "source": [
    "data['delta_sld'] = np.abs(data_table['dispersant_sld'] - data_table['analyte_sld'])"
   ]
  },
  {
   "cell_type": "code",
   "execution_count": null,
   "metadata": {},
   "outputs": [],
   "source": [
    "data['delta_sld_squared'] = data['delta_sld'] * data['delta_sld']"
   ]
  },
  {
   "cell_type": "code",
   "execution_count": null,
   "metadata": {
    "collapsed": true
   },
   "outputs": [],
   "source": [
    "data['delta_sld_squared_m4'] = data['delta_sld_squared'] * 1e40"
   ]
  },
  {
   "cell_type": "code",
   "execution_count": null,
   "metadata": {
    "collapsed": true
   },
   "outputs": [],
   "source": [
    "min_conc_gold_water = 10e-6"
   ]
  },
  {
   "cell_type": "code",
   "execution_count": null,
   "metadata": {
    "collapsed": true
   },
   "outputs": [],
   "source": [
    "data['min_conc'] = data['delta_sld_squared'][0] * min_conc_gold_water / data['delta_sld_squared']"
   ]
  },
  {
   "cell_type": "code",
   "execution_count": null,
   "metadata": {},
   "outputs": [],
   "source": [
    "data['min_conc_gm3'] = data['min_conc'] / 1e-6"
   ]
  },
  {
   "cell_type": "code",
   "execution_count": null,
   "metadata": {},
   "outputs": [],
   "source": [
    "data['vol_frac'] = data['min_conc'] / data_table['analyte_density']"
   ]
  },
  {
   "cell_type": "code",
   "execution_count": null,
   "metadata": {
    "collapsed": true
   },
   "outputs": [],
   "source": [
    "final_data_table = pd.DataFrame(data)"
   ]
  },
  {
   "cell_type": "code",
   "execution_count": null,
   "metadata": {},
   "outputs": [],
   "source": [
    "display(final_data_table)"
   ]
  },
  {
   "cell_type": "code",
   "execution_count": null,
   "metadata": {
    "collapsed": true
   },
   "outputs": [],
   "source": []
  }
 ],
 "metadata": {
  "kernelspec": {
   "display_name": "Python 3 (ipykernel)",
   "language": "python",
   "name": "python3"
  },
  "language_info": {
   "codemirror_mode": {
    "name": "ipython",
    "version": 3
   },
   "file_extension": ".py",
   "mimetype": "text/x-python",
   "name": "python",
   "nbconvert_exporter": "python",
   "pygments_lexer": "ipython3",
   "version": "3.7.12"
  },
  "latex_envs": {
   "LaTeX_envs_menu_present": true,
   "autoclose": false,
   "autocomplete": true,
   "bibliofile": "biblio.bib",
   "cite_by": "apalike",
   "current_citInitial": 1,
   "eqLabelWithNumbers": true,
   "eqNumInitial": 1,
   "hotkeys": {
    "equation": "Ctrl-E",
    "itemize": "Ctrl-I"
   },
   "labels_anchors": false,
   "latex_user_defs": false,
   "report_style_numbering": false,
   "user_envs_cfg": false
  }
 },
 "nbformat": 4,
 "nbformat_minor": 2
}
